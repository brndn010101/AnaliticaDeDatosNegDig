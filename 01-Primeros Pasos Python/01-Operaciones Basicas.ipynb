{
 "cells": [
  {
   "cell_type": "markdown",
   "id": "4d2ba4a5",
   "metadata": {},
   "source": [
    "# Operaciones Básicas en Python\n",
    "\n",
    "## Declaracón de Varibles y Asignacón de Datos\n",
    "\n",
    "**Se describen los tipos de datos existentes en Python y la forma de imprimirlos**"
   ]
  },
  {
   "cell_type": "code",
   "execution_count": null,
   "id": "b4f68492",
   "metadata": {
    "vscode": {
     "languageId": "plaintext"
    }
   },
   "outputs": [],
   "source": [
    "# Declaración de Variables y Tipos\n",
    "\n",
    "a = 1 # Variable de tipo entero\n",
    "b = 2.3 # Variable de tipo flotante\n",
    "c = True # Variable de tipo booleana\n",
    "d = False # Variable de tipo booleana\n",
    "e = \"Hola Mundo\" # Variable tipo cadena\n",
    "f = 'Hola Negocios Digitales' # Variable de tipo cadena\n"
   ]
  }
 ],
 "metadata": {
  "language_info": {
   "name": "python"
  }
 },
 "nbformat": 4,
 "nbformat_minor": 5
}
