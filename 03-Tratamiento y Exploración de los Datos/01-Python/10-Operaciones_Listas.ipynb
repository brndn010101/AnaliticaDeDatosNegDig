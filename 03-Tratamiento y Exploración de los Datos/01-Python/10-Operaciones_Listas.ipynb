{
 "cells": [
  {
   "cell_type": "markdown",
   "id": "583ddfe0",
   "metadata": {},
   "source": [
    "## Operaciones con Listas"
   ]
  },
  {
   "cell_type": "markdown",
   "id": "bf4bf16f",
   "metadata": {},
   "source": [
    "### Copiar una lista a otra"
   ]
  },
  {
   "cell_type": "code",
   "execution_count": null,
   "id": "7bd800d0",
   "metadata": {},
   "outputs": [
    {
     "name": "stdout",
     "output_type": "stream",
     "text": [
      "Lista 1: [1] Lista 2: [1]\n"
     ]
    }
   ],
   "source": [
    "# Forma incorrecta de copiar una lista\n",
    "lista_1 = [1]\n",
    "lista_2 = lista_1\n",
    "\n",
    "print(f'Lista 1: {lista_1} Lista 2: {lista_2}')"
   ]
  },
  {
   "cell_type": "code",
   "execution_count": 20,
   "id": "2a698572",
   "metadata": {},
   "outputs": [
    {
     "name": "stdout",
     "output_type": "stream",
     "text": [
      "[1, 10]\n",
      "[1, 10]\n"
     ]
    }
   ],
   "source": [
    "lista_2.append(10)\n",
    "print(lista_2)\n",
    "print(lista_1)"
   ]
  },
  {
   "cell_type": "markdown",
   "id": "e26af169",
   "metadata": {},
   "source": [
    "## Slicing o rebanadas"
   ]
  },
  {
   "cell_type": "code",
   "execution_count": 22,
   "id": "fec8230b",
   "metadata": {},
   "outputs": [
    {
     "data": {
      "text/plain": [
       "[3, 4, 5, 6, 7, 8]"
      ]
     },
     "execution_count": 22,
     "metadata": {},
     "output_type": "execute_result"
    }
   ],
   "source": [
    "list_1 = [3, 4, 5, 6, 7, 8]\n",
    "list_1[:]"
   ]
  },
  {
   "cell_type": "code",
   "execution_count": 23,
   "id": "023f0acb",
   "metadata": {},
   "outputs": [
    {
     "data": {
      "text/plain": [
       "[3, 4, 5, 6, 7, 8, 11]"
      ]
     },
     "execution_count": 23,
     "metadata": {},
     "output_type": "execute_result"
    }
   ],
   "source": [
    "#Forma correcta\n",
    "list_2 = list_1[:]\n",
    "list_2.append(11)\n",
    "list_2"
   ]
  },
  {
   "cell_type": "code",
   "execution_count": 24,
   "id": "25179eff",
   "metadata": {},
   "outputs": [
    {
     "data": {
      "text/plain": [
       "[3, 4, 5, 6, 7, 8]"
      ]
     },
     "execution_count": 24,
     "metadata": {},
     "output_type": "execute_result"
    }
   ],
   "source": [
    "list_1"
   ]
  },
  {
   "cell_type": "code",
   "execution_count": 27,
   "id": "c8743f34",
   "metadata": {},
   "outputs": [
    {
     "name": "stdout",
     "output_type": "stream",
     "text": [
      "[4, 6, 7, 9, 12]\n"
     ]
    }
   ],
   "source": [
    "x = [4, 6, 7, 9, 12]\n",
    "y = []\n",
    "y = x.copy()\n",
    "print(y)"
   ]
  },
  {
   "cell_type": "markdown",
   "id": "5c18b597",
   "metadata": {},
   "source": [
    "### Slicing o rebanadas - Índices negativos\n",
    "\n",
    "Observa el fragmento de código a continuación:\n",
    "\n",
    "`my_list[start:end]`\n",
    "\n",
    "Para confirmar:\n",
    "\n",
    "1. **start** es el índice del primer elemento incluído en la rebanada\n",
    "2. **end** es el índice del primer elemento no incluído en la rebanada"
   ]
  },
  {
   "cell_type": "code",
   "execution_count": 47,
   "id": "1ed015d1",
   "metadata": {},
   "outputs": [
    {
     "name": "stdout",
     "output_type": "stream",
     "text": [
      "La lista original es: [10, 8, 6, 4, 2]. La lista nueva es : [10, 8, 6]\n"
     ]
    }
   ],
   "source": [
    "lista = [10, 8, 6, 4, 2]\n",
    "\n",
    "lista_2 = lista [0:3]\n",
    "\n",
    "print(f'La lista original es: {lista}. La lista nueva es : {lista_2}')"
   ]
  },
  {
   "cell_type": "code",
   "execution_count": 48,
   "id": "1eca8ce8",
   "metadata": {},
   "outputs": [
    {
     "data": {
      "text/plain": [
       "[6, 4]"
      ]
     },
     "execution_count": 48,
     "metadata": {},
     "output_type": "execute_result"
    }
   ],
   "source": [
    "lista[2:-1]"
   ]
  },
  {
   "cell_type": "code",
   "execution_count": 50,
   "id": "819d7e5a",
   "metadata": {},
   "outputs": [
    {
     "data": {
      "text/plain": [
       "[8, 6, 4, 2]"
      ]
     },
     "execution_count": 50,
     "metadata": {},
     "output_type": "execute_result"
    }
   ],
   "source": [
    "lista[1:]"
   ]
  },
  {
   "cell_type": "code",
   "execution_count": 52,
   "id": "6f037f70",
   "metadata": {},
   "outputs": [
    {
     "data": {
      "text/plain": [
       "[]"
      ]
     },
     "execution_count": 52,
     "metadata": {},
     "output_type": "execute_result"
    }
   ],
   "source": [
    "lista[4:-1]"
   ]
  },
  {
   "cell_type": "markdown",
   "id": "3dc632ee",
   "metadata": {},
   "source": [
    "Dada la lista [10, 8, 6, 4, 2], eliminar los números 8 y 6"
   ]
  },
  {
   "cell_type": "code",
   "execution_count": 8,
   "id": "944bcb15",
   "metadata": {},
   "outputs": [
    {
     "data": {
      "text/plain": [
       "[10, 4, 2]"
      ]
     },
     "execution_count": 8,
     "metadata": {},
     "output_type": "execute_result"
    }
   ],
   "source": [
    "lista = [10, 8, 6, 4, 2]\n",
    "\n",
    "lista_2 = lista [0:1] + lista [3:5]\n",
    " \n",
    "lista_2"
   ]
  },
  {
   "cell_type": "code",
   "execution_count": 1,
   "id": "8824170a",
   "metadata": {},
   "outputs": [
    {
     "data": {
      "text/plain": [
       "[10, 4, 2]"
      ]
     },
     "execution_count": 1,
     "metadata": {},
     "output_type": "execute_result"
    }
   ],
   "source": [
    "lista_3 = [10, 8, 6, 4, 2]\n",
    "\n",
    "del lista_3[1:3]\n",
    "\n",
    "lista_3"
   ]
  },
  {
   "cell_type": "markdown",
   "id": "fa4b0223",
   "metadata": {},
   "source": [
    "`pop`  remueve el último elemento de la lista si se llama sin argumentos"
   ]
  },
  {
   "cell_type": "code",
   "execution_count": 2,
   "id": "fb5ed32c",
   "metadata": {},
   "outputs": [
    {
     "data": {
      "text/plain": [
       "[10, 4]"
      ]
     },
     "execution_count": 2,
     "metadata": {},
     "output_type": "execute_result"
    }
   ],
   "source": [
    "lista_3.pop()\n",
    "lista_3"
   ]
  },
  {
   "cell_type": "code",
   "execution_count": 7,
   "id": "53f3ffd0",
   "metadata": {},
   "outputs": [
    {
     "data": {
      "text/plain": [
       "[7, 5, 9, 11, 5]"
      ]
     },
     "execution_count": 7,
     "metadata": {},
     "output_type": "execute_result"
    }
   ],
   "source": [
    "lista_3 = []\n",
    "\n",
    "lista_3.append(7)\n",
    "lista_3.append(5)\n",
    "lista_3.append(9)\n",
    "lista_3.append(11)\n",
    "lista_3.append(5)\n",
    "\n",
    "lista_3"
   ]
  },
  {
   "cell_type": "code",
   "execution_count": 8,
   "id": "49755aee",
   "metadata": {},
   "outputs": [
    {
     "data": {
      "text/plain": [
       "[7, 9, 11, 5]"
      ]
     },
     "execution_count": 8,
     "metadata": {},
     "output_type": "execute_result"
    }
   ],
   "source": [
    "lista_3.pop(1)\n",
    "lista_3"
   ]
  },
  {
   "cell_type": "code",
   "execution_count": 12,
   "id": "72846fd5",
   "metadata": {},
   "outputs": [
    {
     "name": "stdout",
     "output_type": "stream",
     "text": [
      "['a', 12, True]\n",
      "<class 'list'>\n"
     ]
    }
   ],
   "source": [
    "list_example = [\"a\", 12, True]\n",
    "\n",
    "print(list_example)\n",
    "\n",
    "print(type(list_example))"
   ]
  },
  {
   "cell_type": "code",
   "execution_count": 14,
   "id": "f4a1fa54",
   "metadata": {},
   "outputs": [
    {
     "name": "stdout",
     "output_type": "stream",
     "text": [
      "[['hallway', 100], ['kitchen', 85]]\n",
      "<class 'list'>\n"
     ]
    }
   ],
   "source": [
    "#Lista de listas\n",
    "\n",
    "list_house = [[\"hallway\", 100], [\"kitchen\", 85]]\n",
    "print(list_house)\n",
    "print(type(list_example))"
   ]
  },
  {
   "cell_type": "code",
   "execution_count": 20,
   "id": "b8399077",
   "metadata": {},
   "outputs": [
    {
     "name": "stdout",
     "output_type": "stream",
     "text": [
      "[['hallway', 100], ['kitchen', 85]]\n",
      "100\n"
     ]
    }
   ],
   "source": [
    "#Acceso al primer objeto de la lista\n",
    "list_house[0]\n",
    "print(list_house)\n",
    "#Acceso al objeto de la lista y al índice interior del objeto\n",
    "print(list_house[0][1])"
   ]
  },
  {
   "cell_type": "code",
   "execution_count": 38,
   "id": "7162afc4",
   "metadata": {},
   "outputs": [
    {
     "name": "stdout",
     "output_type": "stream",
     "text": [
      "['Heidi', 22, 'Ines', 54, 'CR7', 33, 'Oscar', 38]\n"
     ]
    }
   ],
   "source": [
    "list_family = ['Heidi', 22, 'Ines', 54, 'CR7', 33, 'Oscar', 38]\n",
    "print(list_family)"
   ]
  },
  {
   "cell_type": "code",
   "execution_count": 39,
   "id": "e07e3ba5",
   "metadata": {},
   "outputs": [
    {
     "name": "stdout",
     "output_type": "stream",
     "text": [
      "Ines\n",
      "Ines\n"
     ]
    }
   ],
   "source": [
    "#Indexación\n",
    "print(list_family[2])\n",
    "print(list_family[-6])"
   ]
  },
  {
   "cell_type": "code",
   "execution_count": 40,
   "id": "6741e461",
   "metadata": {},
   "outputs": [
    {
     "name": "stdout",
     "output_type": "stream",
     "text": [
      "[54, 'CR7']\n",
      "['Heidi', 22, 'Ines', 54, 'CR7']\n",
      "[33, 'Oscar', 38]\n"
     ]
    }
   ],
   "source": [
    "#slicing [start, end]\n",
    "#    inclusive:exclusive\n",
    "print(list_family[3:5]) #No toma el último índice\n",
    "print(list_family[:5]) #Desde el inicio hasta la posición 4\n",
    "print(list_family[5:]) #Desde laa posición 5 hasta el final"
   ]
  },
  {
   "cell_type": "markdown",
   "id": "681f50ef",
   "metadata": {},
   "source": [
    "### **Manipulando Listas**"
   ]
  },
  {
   "cell_type": "code",
   "execution_count": 41,
   "id": "48c77e84",
   "metadata": {},
   "outputs": [
    {
     "name": "stdout",
     "output_type": "stream",
     "text": [
      "['Heidi', 22, 'Ines', 54, 'CR7', 33, 'Oscar', 38]\n"
     ]
    }
   ],
   "source": [
    "print(list_family)"
   ]
  },
  {
   "cell_type": "code",
   "execution_count": 42,
   "id": "f3b5c488",
   "metadata": {},
   "outputs": [
    {
     "data": {
      "text/plain": [
       "['Mayumy', 24, True, 'Ines', 54, 'CR7', 33, 'Oscar', 37]"
      ]
     },
     "execution_count": 42,
     "metadata": {},
     "output_type": "execute_result"
    }
   ],
   "source": [
    "list_family[-1] = 37\n",
    "list_family\n",
    "\n",
    "list_family[:2] = ['Mayumy', 24]\n",
    "list_family\n",
    "\n",
    "list_family[:2] = ['Mayumy', 24, True]\n",
    "list_family"
   ]
  },
  {
   "cell_type": "code",
   "execution_count": 44,
   "id": "6799b3ab",
   "metadata": {},
   "outputs": [
    {
     "data": {
      "text/plain": [
       "['Mayumy', 24, True, 'Ines', 54, 'CR7', 33, 'Oscar', 37, 'Azucena', 12]"
      ]
     },
     "execution_count": 44,
     "metadata": {},
     "output_type": "execute_result"
    }
   ],
   "source": [
    "#Agregar y remover elementos de la lista\n",
    "\n",
    "#Agregar\n",
    "fam_extendida = list_family + ['Azucena', 12]\n",
    "fam_extendida"
   ]
  },
  {
   "cell_type": "code",
   "execution_count": 45,
   "id": "132a86a4",
   "metadata": {},
   "outputs": [
    {
     "data": {
      "text/plain": [
       "['Mayumy', 24, True, 'Ines', 'CR7', 33, 'Oscar', 37, 'Azucena', 12]"
      ]
     },
     "execution_count": 45,
     "metadata": {},
     "output_type": "execute_result"
    }
   ],
   "source": [
    "#Eliminar 54\n",
    "fam_extendida.pop(4)\n",
    "fam_extendida"
   ]
  },
  {
   "cell_type": "code",
   "execution_count": null,
   "id": "b0ddd7c1",
   "metadata": {},
   "outputs": [
    {
     "data": {
      "text/plain": [
       "['Heidi', 22, 'Ines', 'CR7', 33, 'Oscar', 38]"
      ]
     },
     "execution_count": 48,
     "metadata": {},
     "output_type": "execute_result"
    }
   ],
   "source": [
    "#Eliminar 54\n",
    "list_family = ['Heidi', 22, 'Ines', 54, 'CR7', 33, 'Oscar', 38]\n",
    "list_family.remove(54)\n",
    "list_family"
   ]
  },
  {
   "cell_type": "code",
   "execution_count": null,
   "id": "18e3fdb1",
   "metadata": {},
   "outputs": [
    {
     "data": {
      "text/plain": [
       "['Heidi', 22, 'Ines', 'CR7', 33, 'Oscar', 38]"
      ]
     },
     "execution_count": 49,
     "metadata": {},
     "output_type": "execute_result"
    }
   ],
   "source": [
    "#Eliminar 54\n",
    "list_family = ['Heidi', 22, 'Ines', 54, 'CR7', 33, 'Oscar', 38]\n",
    "del(list_family[3])\n",
    "list_family"
   ]
  },
  {
   "cell_type": "markdown",
   "id": "47b6268e",
   "metadata": {},
   "source": [
    "Ejercicio: Eliminar 'poolhouse' y '24.5'"
   ]
  },
  {
   "cell_type": "code",
   "execution_count": 52,
   "id": "d6d43490",
   "metadata": {},
   "outputs": [
    {
     "data": {
      "text/plain": [
       "['hallway',\n",
       " 11.25,\n",
       " 'kitchen',\n",
       " 18.0,\n",
       " 'chilzon',\n",
       " 20.0,\n",
       " 'bedroom',\n",
       " 10.75,\n",
       " 'badroom',\n",
       " 10.5,\n",
       " 'garage',\n",
       " 15.45]"
      ]
     },
     "execution_count": 52,
     "metadata": {},
     "output_type": "execute_result"
    }
   ],
   "source": [
    "areas = ['hallway', 11.25, 'kitchen', 18.0, 'chilzon', 20.0, \n",
    "         'bedroom', 10.75, 'badroom', 10.50, 'poolhouse', 24.5, \n",
    "         'garage', 15.45]\n",
    "\n",
    "del(areas[-4])\n",
    "del(areas[-3])\n",
    "\n",
    "areas"
   ]
  },
  {
   "cell_type": "code",
   "execution_count": 56,
   "id": "11437098",
   "metadata": {},
   "outputs": [
    {
     "name": "stdout",
     "output_type": "stream",
     "text": [
      "['hallway', 11.25, 'kitchen', 18.0, 'chilzon', 20.0, 'bedroom', 10.75, 'badroom', 10.5, 'garage', 15.45]\n"
     ]
    }
   ],
   "source": [
    "areas = ['hallway', 11.25, 'kitchen', 18.0, 'chilzon', 20.0, \n",
    "         'bedroom', 10.75, 'badroom', 10.50, 'poolhouse', 24.5, \n",
    "         'garage', 15.45]\n",
    "\n",
    "del(areas[-4:-2])\n",
    "\n",
    "print(areas)"
   ]
  },
  {
   "cell_type": "markdown",
   "id": "6f2ff3ce",
   "metadata": {},
   "source": [
    "# Funciones y Paquetes"
   ]
  },
  {
   "cell_type": "markdown",
   "id": "0e1854e4",
   "metadata": {},
   "source": [
    "## **Función**\n",
    "\n",
    "Es una pieza de código reutilizable destinada a resolver una tarea en particular"
   ]
  },
  {
   "cell_type": "code",
   "execution_count": 58,
   "id": "c8d5b65e",
   "metadata": {},
   "outputs": [
    {
     "name": "stdout",
     "output_type": "stream",
     "text": [
      "[22, 54, 33, 38, 36]\n",
      "El tamaño de la lista es: 5\n",
      "El valor máximo de la lista es: 54\n"
     ]
    }
   ],
   "source": [
    "list_fam = [22, 54, 33, 38, 36]\n",
    "print(list_fam)\n",
    "print(f'El tamaño de la lista es: {len(list_fam)}')\n",
    "print(f'El valor máximo de la lista es: {max(list_fam)}')"
   ]
  },
  {
   "cell_type": "code",
   "execution_count": 61,
   "id": "d183e338",
   "metadata": {},
   "outputs": [
    {
     "data": {
      "text/plain": [
       "1.69"
      ]
     },
     "execution_count": 61,
     "metadata": {},
     "output_type": "execute_result"
    }
   ],
   "source": [
    "#Redonde a 2 decimales\n",
    "round(1.689, 2)"
   ]
  },
  {
   "cell_type": "code",
   "execution_count": 62,
   "id": "500f73cd",
   "metadata": {},
   "outputs": [
    {
     "name": "stdout",
     "output_type": "stream",
     "text": [
      "Help on built-in function round in module builtins:\n",
      "\n",
      "round(number, ndigits=None)\n",
      "    Round a number to a given precision in decimal digits.\n",
      "\n",
      "    The return value is an integer if ndigits is omitted or None.  Otherwise\n",
      "    the return value has the same type as the number.  ndigits may be negative.\n",
      "\n"
     ]
    }
   ],
   "source": [
    "help(round)"
   ]
  },
  {
   "cell_type": "code",
   "execution_count": 66,
   "id": "616f651d",
   "metadata": {},
   "outputs": [
    {
     "name": "stdout",
     "output_type": "stream",
     "text": [
      "[18.0, 20.0, 51.25]\n",
      "[18.0, 20.0, 51.25]\n",
      "[51.25, 20.0, 18.0]\n"
     ]
    }
   ],
   "source": [
    "first = [51.25, 18.0, 20.0]\n",
    "full_sorted = sorted(first) #Ordena ascendente\n",
    "print(full_sorted)\n",
    "full_sorted_asc = sorted(first, reverse=False) #Ordena ascendente\n",
    "print(full_sorted_asc)\n",
    "full_sorted_desc = sorted(first, reverse=True) #Ordena descendente\n",
    "print(full_sorted_desc)"
   ]
  },
  {
   "cell_type": "markdown",
   "id": "f9a277f1",
   "metadata": {},
   "source": [
    "### **Métodos**\n",
    "En Python todo es objeto, y cada objeto tiene métodos específicos asociados\n",
    "\n",
    "- Objetos con diferentes métodos pueden tener métdos con el mismo nombre"
   ]
  },
  {
   "cell_type": "code",
   "execution_count": 69,
   "id": "673e8f97",
   "metadata": {},
   "outputs": [
    {
     "name": "stdout",
     "output_type": "stream",
     "text": [
      "Indice: 4\n",
      "Contar: 2\n"
     ]
    }
   ],
   "source": [
    "list_fam = ['Heidi', 22, 'Ines', 54, 'CR7', 33, 'Oscar', 54]\n",
    "print(f'Indice: {list_fam.index('CR7')}') #Obtiene el índice de la lista\n",
    "print(f'Contar: {list_fam.count(54)}') #Cuenta cuántas veces aparece algo"
   ]
  },
  {
   "cell_type": "code",
   "execution_count": 71,
   "id": "543d5bdb",
   "metadata": {},
   "outputs": [
    {
     "name": "stdout",
     "output_type": "stream",
     "text": [
      "['Heidi', 22, 'Ines', 54, 33, 'Oscar', 54]\n"
     ]
    }
   ],
   "source": [
    "del(list_fam[list_fam.index('CR7')])\n",
    "print(list_fam)"
   ]
  },
  {
   "cell_type": "code",
   "execution_count": 72,
   "id": "a4854409",
   "metadata": {},
   "outputs": [
    {
     "name": "stdout",
     "output_type": "stream",
     "text": [
      "Mayumi\n"
     ]
    }
   ],
   "source": [
    "name = 'mayumi'\n",
    "print(name.capitalize())"
   ]
  },
  {
   "cell_type": "code",
   "execution_count": 76,
   "id": "44e25ed0",
   "metadata": {},
   "outputs": [
    {
     "name": "stdout",
     "output_type": "stream",
     "text": [
      "Susel\n"
     ]
    }
   ],
   "source": [
    "lista_entornos = ['susel', 'brandon', 'alejandro', 'gabriel']\n",
    "print(lista_entornos[0].capitalize())"
   ]
  },
  {
   "cell_type": "code",
   "execution_count": 77,
   "id": "0893c107",
   "metadata": {},
   "outputs": [
    {
     "name": "stdout",
     "output_type": "stream",
     "text": [
      "ma*umi\n"
     ]
    }
   ],
   "source": [
    "print(name.replace('y', '*'))"
   ]
  },
  {
   "cell_type": "code",
   "execution_count": 78,
   "id": "9a305f2a",
   "metadata": {},
   "outputs": [
    {
     "data": {
      "text/plain": [
       "'MAYUMI'"
      ]
     },
     "execution_count": 78,
     "metadata": {},
     "output_type": "execute_result"
    }
   ],
   "source": [
    "name = 'mayumi'\n",
    "name.upper()"
   ]
  },
  {
   "cell_type": "code",
   "execution_count": 80,
   "id": "aa8f110f",
   "metadata": {},
   "outputs": [
    {
     "name": "stdout",
     "output_type": "stream",
     "text": [
      "['Heidi', 22, 'Ines', 54, 33, 'Oscar', 54]\n",
      "[54, 'Oscar', 33, 54, 'Ines', 22, 'Heidi']\n"
     ]
    }
   ],
   "source": [
    "print(list_fam)\n",
    "list_fam.reverse()\n",
    "print(list_fam)"
   ]
  }
 ],
 "metadata": {
  "kernelspec": {
   "display_name": "Python 3",
   "language": "python",
   "name": "python3"
  },
  "language_info": {
   "codemirror_mode": {
    "name": "ipython",
    "version": 3
   },
   "file_extension": ".py",
   "mimetype": "text/x-python",
   "name": "python",
   "nbconvert_exporter": "python",
   "pygments_lexer": "ipython3",
   "version": "3.13.3"
  }
 },
 "nbformat": 4,
 "nbformat_minor": 5
}
