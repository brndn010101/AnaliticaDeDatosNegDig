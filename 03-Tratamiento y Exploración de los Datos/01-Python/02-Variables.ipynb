{
 "cells": [
  {
   "cell_type": "markdown",
   "id": "7bf357ba",
   "metadata": {},
   "source": [
    "## Ejemplo 2 - Variables\n",
    "\n",
    "### 1. Objetivos\n",
    "\n",
    "- Entender cuál es la sintaxis de la asignación de variables en Python\n",
    "- Aprender la convención de nombramiento de variables"
   ]
  },
  {
   "cell_type": "markdown",
   "id": "8a909de1",
   "metadata": {},
   "source": [
    "### 2. Desarrollo\n",
    "\n",
    "Lo siguientes nombres son nombres posibles de variables en Python:\n",
    "\n",
    "- var_1\n",
    "- variable_2\n",
    "- variable_dos\n",
    "- variable_nueva_tres\n",
    "- esta_es_una_variable_nueva "
   ]
  },
  {
   "cell_type": "markdown",
   "id": "be3112e6",
   "metadata": {},
   "source": [
    "Los siguientes son nombres inválidos para una variable en Python\n",
    "\n",
    "- 1_2\n",
    "- 1_variable\n",
    "- variableDos\n",
    "- EstaEsUnaVariable\n",
    "- Soy Una Variable"
   ]
  },
  {
   "cell_type": "markdown",
   "id": "6e199d67",
   "metadata": {},
   "source": [
    "Asignemos unas cuantas variables"
   ]
  },
  {
   "cell_type": "code",
   "execution_count": 1,
   "id": "282f0aaa",
   "metadata": {},
   "outputs": [],
   "source": [
    "var_1 = 3\n",
    "var_2 = 6\n",
    "variable_3 = 10\n",
    "vairbale_nueva_4 = 20"
   ]
  },
  {
   "cell_type": "markdown",
   "id": "7c0504eb",
   "metadata": {},
   "source": [
    "Podemos acceder a su contenido con tan solo escribir el nombre de la variable en una celda y correrla"
   ]
  },
  {
   "cell_type": "code",
   "execution_count": 5,
   "id": "b4f409b0",
   "metadata": {},
   "outputs": [
    {
     "data": {
      "text/plain": [
       "3"
      ]
     },
     "execution_count": 5,
     "metadata": {},
     "output_type": "execute_result"
    }
   ],
   "source": [
    "var_1"
   ]
  },
  {
   "cell_type": "code",
   "execution_count": 6,
   "id": "5f7b949a",
   "metadata": {},
   "outputs": [
    {
     "data": {
      "text/plain": [
       "20"
      ]
     },
     "execution_count": 6,
     "metadata": {},
     "output_type": "execute_result"
    }
   ],
   "source": [
    "vairbale_nueva_4"
   ]
  },
  {
   "cell_type": "markdown",
   "id": "7f075fc1",
   "metadata": {},
   "source": [
    "Si intentó llamar una variable que no se ha asignado o no existe, JN va a lanzar un error"
   ]
  },
  {
   "cell_type": "code",
   "execution_count": 7,
   "id": "85a89beb",
   "metadata": {},
   "outputs": [
    {
     "ename": "NameError",
     "evalue": "name 'var_5' is not defined",
     "output_type": "error",
     "traceback": [
      "\u001b[31m---------------------------------------------------------------------------\u001b[39m",
      "\u001b[31mNameError\u001b[39m                                 Traceback (most recent call last)",
      "\u001b[36mCell\u001b[39m\u001b[36m \u001b[39m\u001b[32mIn[7]\u001b[39m\u001b[32m, line 1\u001b[39m\n\u001b[32m----> \u001b[39m\u001b[32m1\u001b[39m \u001b[43mvar_5\u001b[49m\n",
      "\u001b[31mNameError\u001b[39m: name 'var_5' is not defined"
     ]
    }
   ],
   "source": [
    "var_5"
   ]
  },
  {
   "cell_type": "markdown",
   "id": "c1973a54",
   "metadata": {},
   "source": [
    "De igual manera, si se esvribe una asignación pero no se corre la celda, ésa variable no estará disponible para el Notebook más adelante"
   ]
  },
  {
   "cell_type": "code",
   "execution_count": 12,
   "id": "1456bfd4",
   "metadata": {},
   "outputs": [],
   "source": [
    "var_2 = 66"
   ]
  },
  {
   "cell_type": "code",
   "execution_count": 13,
   "id": "6c5ae737",
   "metadata": {},
   "outputs": [
    {
     "data": {
      "text/plain": [
       "66"
      ]
     },
     "execution_count": 13,
     "metadata": {},
     "output_type": "execute_result"
    }
   ],
   "source": [
    "var_2"
   ]
  },
  {
   "cell_type": "markdown",
   "id": "ff60c395",
   "metadata": {},
   "source": [
    "## Reto 1: Variables\n",
    "\n",
    "### 1. Objetivos:\n",
    "    - Practicar convención de nombramiento y asignación de variables\n",
    "\n",
    "### 2. Desarrollo:\n",
    "\n",
    "Realizar la siguiente práctica"
   ]
  },
  {
   "cell_type": "code",
   "execution_count": 18,
   "id": "104c85e3",
   "metadata": {},
   "outputs": [],
   "source": [
    "#Asigna el número 123456 a una variable llamada \"variable_locochona\"\n",
    "variable_locochona = 123456\n",
    "\n",
    "#Asigna el número 14.567 a la variable \"var_decimal\"\n",
    "var_decimal = 14.567\n",
    "\n",
    "#Asigna un número cualquiera a una variable que tenga 5 palabras en su nombre\n",
    "dile_que_tu_me_quieres = True\n",
    "\n",
    "#Asigna cualquier número a una varibale que incluya palabras y números en su nombre\n",
    "goku_123 = 'Capo'"
   ]
  }
 ],
 "metadata": {
  "kernelspec": {
   "display_name": "Python 3",
   "language": "python",
   "name": "python3"
  },
  "language_info": {
   "codemirror_mode": {
    "name": "ipython",
    "version": 3
   },
   "file_extension": ".py",
   "mimetype": "text/x-python",
   "name": "python",
   "nbconvert_exporter": "python",
   "pygments_lexer": "ipython3",
   "version": "3.13.3"
  }
 },
 "nbformat": 4,
 "nbformat_minor": 5
}
