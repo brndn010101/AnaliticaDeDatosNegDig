{
 "cells": [
  {
   "cell_type": "markdown",
   "id": "35d1858a",
   "metadata": {},
   "source": [
    "# Ejemplo 1: Esto es un Notebook de práctica\n",
    "---\n",
    "\n",
    "### 1. Objetivos:\n",
    "    - Repasar rápidamente cómo funciona un Jupyter Notebook\n",
    "\n",
    "### 2. Requisitos:\n",
    "    - Jupyter Notebook instalado\n",
    "\n",
    "---"
   ]
  },
  {
   "cell_type": "markdown",
   "id": "48003581",
   "metadata": {},
   "source": [
    "En JN tenemos `Modo Comando` y `Modo Edición`.\n",
    "\n",
    "- El `Modo Edición` sirve para editar celdas\n",
    "- El `Modo Comando` sirve para usar comandos en el JN"
   ]
  },
  {
   "cell_type": "markdown",
   "id": "7d4fa361",
   "metadata": {},
   "source": [
    "Esto es una celda `Markdown`"
   ]
  },
  {
   "cell_type": "code",
   "execution_count": 3,
   "id": "5f830fc0",
   "metadata": {},
   "outputs": [],
   "source": [
    "#Esto es una celda de Código\n",
    "#Yo soy un Comentario..."
   ]
  },
  {
   "cell_type": "markdown",
   "id": "361737f0",
   "metadata": {},
   "source": [
    "Escribamos algo de código para recordar:"
   ]
  },
  {
   "cell_type": "code",
   "execution_count": 6,
   "id": "4ec1ff83",
   "metadata": {},
   "outputs": [
    {
     "data": {
      "text/plain": [
       "9"
      ]
     },
     "execution_count": 6,
     "metadata": {},
     "output_type": "execute_result"
    }
   ],
   "source": [
    "var_1 = 4\n",
    "var_2 = 5\n",
    "\n",
    "var_1 + var_2"
   ]
  },
  {
   "cell_type": "code",
   "execution_count": 8,
   "id": "f7a44851",
   "metadata": {},
   "outputs": [
    {
     "name": "stdout",
     "output_type": "stream",
     "text": [
      "4 5\n"
     ]
    }
   ],
   "source": [
    "print (var_1, var_2)"
   ]
  },
  {
   "cell_type": "code",
   "execution_count": 11,
   "id": "ec8f02e9",
   "metadata": {},
   "outputs": [
    {
     "name": "stdout",
     "output_type": "stream",
     "text": [
      "4,5\n"
     ]
    }
   ],
   "source": [
    "print (str(var_1) + ',' + str(var_2))"
   ]
  },
  {
   "cell_type": "code",
   "execution_count": 12,
   "id": "658751bb",
   "metadata": {},
   "outputs": [
    {
     "name": "stdout",
     "output_type": "stream",
     "text": [
      "9\n"
     ]
    }
   ],
   "source": [
    "print (var_1 + var_2)"
   ]
  },
  {
   "cell_type": "code",
   "execution_count": 17,
   "id": "9d1b5288",
   "metadata": {},
   "outputs": [
    {
     "data": {
      "text/plain": [
       "15"
      ]
     },
     "execution_count": 17,
     "metadata": {},
     "output_type": "execute_result"
    }
   ],
   "source": [
    "var_1 = 10\n",
    "var_1 + var_2"
   ]
  }
 ],
 "metadata": {
  "kernelspec": {
   "display_name": "Python 3",
   "language": "python",
   "name": "python3"
  },
  "language_info": {
   "codemirror_mode": {
    "name": "ipython",
    "version": 3
   },
   "file_extension": ".py",
   "mimetype": "text/x-python",
   "name": "python",
   "nbconvert_exporter": "python",
   "pygments_lexer": "ipython3",
   "version": "3.13.3"
  }
 },
 "nbformat": 4,
 "nbformat_minor": 5
}
