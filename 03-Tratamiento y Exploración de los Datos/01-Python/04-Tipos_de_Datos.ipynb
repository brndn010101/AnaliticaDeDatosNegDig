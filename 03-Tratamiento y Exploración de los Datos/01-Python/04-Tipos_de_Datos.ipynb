{
 "cells": [
  {
   "cell_type": "markdown",
   "id": "215110cc",
   "metadata": {},
   "source": [
    "## Tipos de Datos\n",
    "\n",
    "### Objetivos\n",
    "\n",
    "- Hablar sobre los 4 tipos de datos básicos de Python\n",
    "\n",
    "### Desarrollo:"
   ]
  },
  {
   "cell_type": "markdown",
   "id": "0d3e6cfe",
   "metadata": {},
   "source": [
    "Se tienen 4 tipos de datos básicos. Veamos en código y utilcemos las funciones `print` y `type`para imprimir los tipos de manera explícita"
   ]
  },
  {
   "cell_type": "code",
   "execution_count": 6,
   "id": "c279af73",
   "metadata": {},
   "outputs": [
    {
     "name": "stdout",
     "output_type": "stream",
     "text": [
      "45\n",
      "<class 'int'>\n",
      "\n",
      "\n",
      "45\n",
      "<class 'float'>\n",
      "\n",
      "\n",
      "Yo soy un string\n",
      "<class 'str'>\n",
      "\n",
      "\n",
      "True\n",
      "<class 'bool'>\n",
      "\n",
      "\n"
     ]
    }
   ],
   "source": [
    "var_int = 45\n",
    "print (var_int)\n",
    "print (type(var_int))\n",
    "print ('\\n')\n",
    "\n",
    "var_float = 369.432\n",
    "print (var_int)\n",
    "print (type(var_float))\n",
    "print ('\\n')\n",
    "\n",
    "var_string = 'Yo soy un string'\n",
    "print (var_string)\n",
    "print (type(var_string))\n",
    "print ('\\n')\n",
    "\n",
    "var_bool = True\n",
    "print (var_bool)\n",
    "print (type(var_bool))\n",
    "print ('\\n')"
   ]
  }
 ],
 "metadata": {
  "kernelspec": {
   "display_name": "Python 3",
   "language": "python",
   "name": "python3"
  },
  "language_info": {
   "codemirror_mode": {
    "name": "ipython",
    "version": 3
   },
   "file_extension": ".py",
   "mimetype": "text/x-python",
   "name": "python",
   "nbconvert_exporter": "python",
   "pygments_lexer": "ipython3",
   "version": "3.13.3"
  }
 },
 "nbformat": 4,
 "nbformat_minor": 5
}
