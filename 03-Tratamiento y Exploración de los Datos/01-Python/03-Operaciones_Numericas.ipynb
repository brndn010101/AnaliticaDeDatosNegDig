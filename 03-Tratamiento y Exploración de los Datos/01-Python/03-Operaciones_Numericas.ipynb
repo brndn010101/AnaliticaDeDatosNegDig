{
 "cells": [
  {
   "cell_type": "markdown",
   "id": "031c4089",
   "metadata": {},
   "source": [
    "## Operaciones Numéricas\n",
    "\n",
    "### Objetivos \n",
    "\n",
    "- Mostrar cómo utilizar los operadores aritméticos\n",
    "\n",
    "### Desarrollo"
   ]
  },
  {
   "cell_type": "markdown",
   "id": "9aaa4b72",
   "metadata": {},
   "source": [
    "Primero vamos a asignar unas variables"
   ]
  },
  {
   "cell_type": "code",
   "execution_count": 1,
   "id": "4fcc9521",
   "metadata": {},
   "outputs": [],
   "source": [
    "var_1 = 4\n",
    "var_2 = 54\n",
    "var_3 = 23\n",
    "var_4 = 89"
   ]
  },
  {
   "cell_type": "code",
   "execution_count": 8,
   "id": "3255d6a2",
   "metadata": {},
   "outputs": [
    {
     "name": "stdout",
     "output_type": "stream",
     "text": [
      "4 54 23 89 4-54-23-89\n",
      "El valor de la vairbale var_1: 4\n",
      "El valor de var_2 es: 54\n"
     ]
    }
   ],
   "source": [
    "print (var_1, var_2, var_3, var_4, end=' ')\n",
    "\n",
    "print (var_1, var_2, var_3, var_4, sep='-')\n",
    "\n",
    "print ('El valor de la vairbale var_1: ' + str(var_1) + '\\nEl valor de var_2 es: ' + str(var_2))\n"
   ]
  },
  {
   "cell_type": "markdown",
   "id": "a2f92398",
   "metadata": {},
   "source": [
    "Operaciones numéricas\n",
    "\n",
    "---\n",
    "\n",
    "**Operadores Aritméticos**\n",
    "\n",
    "| Operador | Nombre                  | Descripción                                 | Ejemplo        | Resultado |\n",
    "|----------|-------------------------|---------------------------------------------|----------------|-----------|\n",
    "| `+`      | Suma                    | Suma de dos operandos                        | `5 + 3`        | `8`       |\n",
    "| `-`      | Resta                   | Resta del segundo operando al primero        | `5 - 3`        | `2`       |\n",
    "| `*`      | Multiplicación          | Producto de dos operandos                    | `5 * 3`        | `15`      |\n",
    "| `/`      | División                | División del primero entre el segundo       | `5 / 2`        | `2.5`     |\n",
    "| `//`     | División entera         | División y redondeo hacia abajo             | `5 // 2`       | `2`       |\n",
    "| `%`      | Módulo (residuo)        | Residuo de la división                      | `5 % 2`        | `1`       |\n",
    "| `**`     | Exponente               | Potencia del primer operando al segundo     | `2 ** 3`       | `8`       |"
   ]
  },
  {
   "cell_type": "code",
   "execution_count": 9,
   "id": "4220e6f0",
   "metadata": {},
   "outputs": [
    {
     "data": {
      "text/plain": [
       "58"
      ]
     },
     "execution_count": 9,
     "metadata": {},
     "output_type": "execute_result"
    }
   ],
   "source": [
    "var_1 + var_2"
   ]
  },
  {
   "cell_type": "code",
   "execution_count": 10,
   "id": "9535cfec",
   "metadata": {},
   "outputs": [
    {
     "data": {
      "text/plain": [
       "-35"
      ]
     },
     "execution_count": 10,
     "metadata": {},
     "output_type": "execute_result"
    }
   ],
   "source": [
    "var_2 - var_4"
   ]
  },
  {
   "cell_type": "code",
   "execution_count": 11,
   "id": "6cabc72b",
   "metadata": {},
   "outputs": [
    {
     "data": {
      "text/plain": [
       "92"
      ]
     },
     "execution_count": 11,
     "metadata": {},
     "output_type": "execute_result"
    }
   ],
   "source": [
    "var_3 * var_1"
   ]
  },
  {
   "cell_type": "code",
   "execution_count": 13,
   "id": "a1ce6729",
   "metadata": {},
   "outputs": [
    {
     "data": {
      "text/plain": [
       "1.6481481481481481"
      ]
     },
     "execution_count": 13,
     "metadata": {},
     "output_type": "execute_result"
    }
   ],
   "source": [
    "var_4 / var_2"
   ]
  },
  {
   "cell_type": "code",
   "execution_count": 14,
   "id": "d75c904a",
   "metadata": {},
   "outputs": [
    {
     "data": {
      "text/plain": [
       "1"
      ]
     },
     "execution_count": 14,
     "metadata": {},
     "output_type": "execute_result"
    }
   ],
   "source": [
    "var_4 // var_2"
   ]
  },
  {
   "cell_type": "code",
   "execution_count": 15,
   "id": "b86b66db",
   "metadata": {},
   "outputs": [
    {
     "data": {
      "text/plain": [
       "0.5"
      ]
     },
     "execution_count": 15,
     "metadata": {},
     "output_type": "execute_result"
    }
   ],
   "source": [
    "1/2"
   ]
  },
  {
   "cell_type": "code",
   "execution_count": 16,
   "id": "67c956c0",
   "metadata": {},
   "outputs": [
    {
     "data": {
      "text/plain": [
       "0"
      ]
     },
     "execution_count": 16,
     "metadata": {},
     "output_type": "execute_result"
    }
   ],
   "source": [
    "1//2"
   ]
  },
  {
   "cell_type": "code",
   "execution_count": null,
   "id": "b616fd55",
   "metadata": {},
   "outputs": [
    {
     "data": {
      "text/plain": [
       "2916"
      ]
     },
     "execution_count": 19,
     "metadata": {},
     "output_type": "execute_result"
    }
   ],
   "source": [
    "#Potencia\n",
    "var_2 ** 2"
   ]
  },
  {
   "cell_type": "code",
   "execution_count": null,
   "id": "efee27f1",
   "metadata": {},
   "outputs": [
    {
     "data": {
      "text/plain": [
       "8503056"
      ]
     },
     "execution_count": 20,
     "metadata": {},
     "output_type": "execute_result"
    }
   ],
   "source": [
    "#Potencia\n",
    "var_2 ** var_1"
   ]
  },
  {
   "cell_type": "code",
   "execution_count": null,
   "id": "45e66c59",
   "metadata": {},
   "outputs": [
    {
     "data": {
      "text/plain": [
       "0"
      ]
     },
     "execution_count": 23,
     "metadata": {},
     "output_type": "execute_result"
    }
   ],
   "source": [
    "#Modulo\n",
    "var_1 = 10\n",
    "var_2 = 2\n",
    "\n",
    "var_1 % var_2"
   ]
  },
  {
   "cell_type": "code",
   "execution_count": 24,
   "id": "399da660",
   "metadata": {},
   "outputs": [
    {
     "name": "stdout",
     "output_type": "stream",
     "text": [
      "12\n"
     ]
    }
   ],
   "source": [
    "print (var_1 + var_2)"
   ]
  },
  {
   "cell_type": "markdown",
   "id": "b3933838",
   "metadata": {},
   "source": [
    "También se pueden asignar los resultados de la operaciones a otras variables"
   ]
  },
  {
   "cell_type": "code",
   "execution_count": 26,
   "id": "0278d3ba",
   "metadata": {},
   "outputs": [
    {
     "data": {
      "text/plain": [
       "33"
      ]
     },
     "execution_count": 26,
     "metadata": {},
     "output_type": "execute_result"
    }
   ],
   "source": [
    "resultado = var_1 + var_3\n",
    "\n",
    "resultado"
   ]
  }
 ],
 "metadata": {
  "kernelspec": {
   "display_name": "Python 3",
   "language": "python",
   "name": "python3"
  },
  "language_info": {
   "codemirror_mode": {
    "name": "ipython",
    "version": 3
   },
   "file_extension": ".py",
   "mimetype": "text/x-python",
   "name": "python",
   "nbconvert_exporter": "python",
   "pygments_lexer": "ipython3",
   "version": "3.13.3"
  }
 },
 "nbformat": 4,
 "nbformat_minor": 5
}
