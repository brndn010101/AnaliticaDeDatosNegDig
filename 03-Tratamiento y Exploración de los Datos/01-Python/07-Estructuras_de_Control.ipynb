{
 "cells": [
  {
   "cell_type": "markdown",
   "id": "e344c7f5",
   "metadata": {},
   "source": [
    "## Estructuras de Control\n",
    "\n",
    "### Objetivo\n",
    "\n",
    "- Conocer las estructuras de control, cómo funcionan y para qué sirven\n",
    "\n",
    "---\n",
    "\n",
    "## Desarrollo"
   ]
  },
  {
   "cell_type": "markdown",
   "id": "53140ee9",
   "metadata": {},
   "source": [
    "Queremos darle a nuestro programa la capacidad de tomar decisiones, esto puede hacer utilizando una `sentencia if` donde utiliza una comparación para obtener un boolean. El el booleano es `True`, el bloque de la sentencia se ejecuta. Si el booleano es  `False` nos saltamos a lo que sigue después del bloque."
   ]
  },
  {
   "cell_type": "code",
   "execution_count": 13,
   "id": "eaccbf4b",
   "metadata": {},
   "outputs": [],
   "source": [
    "var_1 = 4\n",
    "var_2 = 5"
   ]
  },
  {
   "cell_type": "code",
   "execution_count": 14,
   "id": "d475380b",
   "metadata": {},
   "outputs": [
    {
     "name": "stdout",
     "output_type": "stream",
     "text": [
      "El bloque se ha ejecutado\n"
     ]
    }
   ],
   "source": [
    "if var_1 < var_2:\n",
    "    print ('El bloque se ha ejecutado')"
   ]
  },
  {
   "cell_type": "code",
   "execution_count": 15,
   "id": "2a6306f5",
   "metadata": {},
   "outputs": [
    {
     "name": "stdout",
     "output_type": "stream",
     "text": [
      "El numero 10 es menor que el numero 50\n"
     ]
    }
   ],
   "source": [
    "var_1 = int(input('Introduce el valor 1: '))\n",
    "var_2 = int(input('Introduce el valor 2: '))\n",
    "\n",
    "if (var_1 < var_2):\n",
    "    print(f\"El numero {var_1} es menor que el numero {var_2}\")"
   ]
  },
  {
   "cell_type": "code",
   "execution_count": 16,
   "id": "f1278724",
   "metadata": {},
   "outputs": [],
   "source": [
    "# Función que solicita un valor\n",
    "def solicitar ():\n",
    "    return int(input('Introduce el valor: '))"
   ]
  },
  {
   "cell_type": "code",
   "execution_count": 21,
   "id": "10b091d3",
   "metadata": {},
   "outputs": [
    {
     "name": "stdout",
     "output_type": "stream",
     "text": [
      "El numero 10 es menor que el numero 20\n"
     ]
    }
   ],
   "source": [
    "# Función que hace la comparación\n",
    "def comaprar (valor_uno, valor_dos):\n",
    "    if valor_uno < valor_dos:\n",
    "        print(f\"El numero {var_1} es menor que el numero {var_2}\")\n",
    "\n",
    "var_1 = solicitar()\n",
    "var_2 = solicitar()\n",
    "\n",
    "comaprar (var_1, var_2)\n"
   ]
  },
  {
   "cell_type": "code",
   "execution_count": null,
   "id": "3eaa4bfc",
   "metadata": {},
   "outputs": [],
   "source": [
    "# Ejecución de las funciones"
   ]
  },
  {
   "cell_type": "markdown",
   "id": "92b6b1c0",
   "metadata": {},
   "source": [
    "1. Desarrollar un programa que determine si un número es positivo\n",
    "2. Desarrollar un programa que determine si puedes votar\n",
    "3. Verificar si un número es par\n",
    "4. Realizar la simulación de un login, en el cual se debe verifica si la contraseña es correcta\n",
    "5. Realizar un programa que determine si un alumno está aprobado\n",
    "\n",
    "Todos los datos deben ser solicitados"
   ]
  },
  {
   "cell_type": "code",
   "execution_count": 38,
   "id": "012f9bfd",
   "metadata": {},
   "outputs": [
    {
     "name": "stdout",
     "output_type": "stream",
     "text": [
      "El numero -3 es negativo\n"
     ]
    }
   ],
   "source": [
    "var_1 = int(input('Introduce el valor 1: '))\n",
    "\n",
    "if (var_1 >= 0):\n",
    "    print(f\"El numero {var_1} es positivo\")\n",
    "else:\n",
    "    print (f\"El numero {var_1} es negativo\")"
   ]
  },
  {
   "cell_type": "code",
   "execution_count": 40,
   "id": "0e33db68",
   "metadata": {},
   "outputs": [
    {
     "name": "stdout",
     "output_type": "stream",
     "text": [
      "Tu edad es: 17, no puedes votar\n"
     ]
    }
   ],
   "source": [
    "var_1 = int(input('Introduce tu edad: '))\n",
    "\n",
    "if (var_1 >= 18):\n",
    "    print(f\"Tu edad es: {var_1}, puedes votar\")\n",
    "else:\n",
    "    print(f'Tu edad es: {var_1}, no puedes votar')"
   ]
  },
  {
   "cell_type": "code",
   "execution_count": null,
   "id": "c0c25c23",
   "metadata": {},
   "outputs": [
    {
     "name": "stdout",
     "output_type": "stream",
     "text": [
      "El numero 5 no es para\n"
     ]
    }
   ],
   "source": [
    "var_1 = int(input('Introduce el valor 1: '))\n",
    "\n",
    "if (var_1 % 2 == 0):\n",
    "    print(f\"El numero {var_1} es par\")\n",
    "else:\n",
    "    print(f'El numero {var_1} no es par')"
   ]
  },
  {
   "cell_type": "code",
   "execution_count": 48,
   "id": "f6721750",
   "metadata": {},
   "outputs": [
    {
     "name": "stdout",
     "output_type": "stream",
     "text": [
      "El numero 5 no es par\n"
     ]
    }
   ],
   "source": [
    "var_1 = solicitar()\n",
    "\n",
    "if not (var_1 % 2 != 0):\n",
    "    print(f\"El numero {var_1} es par\")\n",
    "else:\n",
    "    print(f'El numero {var_1} no es par')"
   ]
  },
  {
   "cell_type": "code",
   "execution_count": 46,
   "id": "fa405952",
   "metadata": {},
   "outputs": [
    {
     "name": "stdout",
     "output_type": "stream",
     "text": [
      "La contraseña Juan es incorrecta\n"
     ]
    }
   ],
   "source": [
    "var_1 = input('Introduce la contraseña 1: ')\n",
    "var_2 = 'Brandon'\n",
    "if (var_1 == var_2):\n",
    "    print(f\"La contraseña {var_1} es corrrecta\")\n",
    "else:\n",
    "    print(f'La contraseña {var_1} es incorrecta')"
   ]
  },
  {
   "cell_type": "code",
   "execution_count": 44,
   "id": "38a4c7a1",
   "metadata": {},
   "outputs": [
    {
     "name": "stdout",
     "output_type": "stream",
     "text": [
      "Tu calificación es: 7.0, estás aprobado\n"
     ]
    }
   ],
   "source": [
    "var_1 = float(input('Introduce la calificacion: '))\n",
    "\n",
    "if (var_1 >= 7):\n",
    "    print(f\"Tu calificación es: {var_1}, estás aprobado\")\n",
    "else:\n",
    "    print(f\"Tu calificación es: {var_1}, estás reprobado\")"
   ]
  },
  {
   "cell_type": "markdown",
   "id": "ec3d0a7d",
   "metadata": {},
   "source": [
    "## Operadores Lógicos\n",
    "---\n",
    "\n",
    "### Operador or\n",
    "\n",
    "| A   | B   | A or B |\n",
    "|-----|-----|--------|\n",
    "| F   | F   | F      |\n",
    "| T   | F   | T      |\n",
    "| F   | T   | T      |\n",
    "| T   | T   | T      |\n",
    "\n",
    "### Operador and\n",
    "\n",
    "| A   | B   | A and B |\n",
    "|-----|-----|---------|\n",
    "| F   | F   | F       |\n",
    "| T   | F   | F       |\n",
    "| F   | T   | F       |\n",
    "| T   | T   | T       |\n",
    "\n",
    "### Operador not\n",
    "\n",
    "| A   | not A |\n",
    "|-----|--------|\n",
    "| F   | T      |\n",
    "| T   | F      |"
   ]
  },
  {
   "cell_type": "code",
   "execution_count": 3,
   "id": "812c7f86",
   "metadata": {},
   "outputs": [
    {
     "data": {
      "text/plain": [
       "True"
      ]
     },
     "execution_count": 3,
     "metadata": {},
     "output_type": "execute_result"
    }
   ],
   "source": [
    "resultado = 4>5 or 5==5\n",
    "resultado"
   ]
  },
  {
   "cell_type": "code",
   "execution_count": 5,
   "id": "04551f2d",
   "metadata": {},
   "outputs": [
    {
     "data": {
      "text/plain": [
       "False"
      ]
     },
     "execution_count": 5,
     "metadata": {},
     "output_type": "execute_result"
    }
   ],
   "source": [
    "resultado = 4>5 and 5==5\n",
    "resultado"
   ]
  },
  {
   "cell_type": "code",
   "execution_count": 6,
   "id": "e452294e",
   "metadata": {},
   "outputs": [
    {
     "data": {
      "text/plain": [
       "True"
      ]
     },
     "execution_count": 6,
     "metadata": {},
     "output_type": "execute_result"
    }
   ],
   "source": [
    "resultado = not(4>5 and 5==5)\n",
    "resultado"
   ]
  },
  {
   "cell_type": "code",
   "execution_count": 10,
   "id": "69d12f8b",
   "metadata": {},
   "outputs": [
    {
     "data": {
      "text/plain": [
       "False"
      ]
     },
     "execution_count": 10,
     "metadata": {},
     "output_type": "execute_result"
    }
   ],
   "source": [
    "resultado = not(4>5 or 5==5)\n",
    "resultado"
   ]
  },
  {
   "cell_type": "code",
   "execution_count": 14,
   "id": "d437e525",
   "metadata": {},
   "outputs": [
    {
     "data": {
      "text/plain": [
       "True"
      ]
     },
     "execution_count": 14,
     "metadata": {},
     "output_type": "execute_result"
    }
   ],
   "source": [
    "resultado = not 4>5 or 5!=5\n",
    "resultado"
   ]
  },
  {
   "cell_type": "code",
   "execution_count": 15,
   "id": "5c5febad",
   "metadata": {},
   "outputs": [],
   "source": [
    "x = 5\n",
    "y = 10\n",
    "resultado = x >= 5 and y <= 5"
   ]
  },
  {
   "cell_type": "markdown",
   "id": "fcd1755d",
   "metadata": {},
   "source": [
    "1. Verificar si un número está en el rango de 10 y 20\n",
    "2. Verificar si un usaurio tiene acceso al Charly's si tiene mínimo 18 años o tiene permiso especial\n",
    "3. Verificar si un número no es igual a 0\n",
    "4. Verificar si un valor está fuera del rango de 0 y 30"
   ]
  },
  {
   "cell_type": "code",
   "execution_count": 18,
   "id": "25dccb8e",
   "metadata": {},
   "outputs": [
    {
     "name": "stdout",
     "output_type": "stream",
     "text": [
      "El numero 21 no está en el rango\n"
     ]
    }
   ],
   "source": [
    "num = int(input('Introduce un número'))\n",
    "if (num >= 10 and num <= 20):\n",
    "    print(f'El numero {num} está en el rango')\n",
    "else:\n",
    "    print(f'El numero {num} no está en el rango')"
   ]
  },
  {
   "cell_type": "code",
   "execution_count": 62,
   "id": "e9f3a0be",
   "metadata": {},
   "outputs": [
    {
     "name": "stdout",
     "output_type": "stream",
     "text": [
      "Bienvenido al Charly´s\n"
     ]
    }
   ],
   "source": [
    "num = int(input('Introduce tu edad'))\n",
    "permiso = input('Escribe si tienes un permiso especial (Y/N):')\n",
    "if (num == 18 and permiso == 'Y'):\n",
    "    print('Bienvenido al Charly´s')\n",
    "elif (num == 18 and permiso == 'N'):\n",
    "    print('Bienvenido al Charly´s')\n",
    "elif (num > 18 or permiso == 'Y'):\n",
    "    print('Bienvenido al Charly´s')\n",
    "else:\n",
    "    print('Adiós bro')"
   ]
  },
  {
   "cell_type": "code",
   "execution_count": 31,
   "id": "b62d7675",
   "metadata": {},
   "outputs": [
    {
     "name": "stdout",
     "output_type": "stream",
     "text": [
      "El numero 3 es diferente de 0\n"
     ]
    }
   ],
   "source": [
    "num = int(input('Introduce un número'))\n",
    "if (num != 0):\n",
    "    print(f'El numero {num} es diferente de 0')\n",
    "else:\n",
    "    print(f'El numero {num} no es diferente de 0')"
   ]
  },
  {
   "cell_type": "code",
   "execution_count": 39,
   "id": "13676898",
   "metadata": {},
   "outputs": [
    {
     "name": "stdout",
     "output_type": "stream",
     "text": [
      "El numero 20 no está en el rango\n"
     ]
    }
   ],
   "source": [
    "num = int(input('Introduce un número'))\n",
    "if (num > 0 and num < 30):\n",
    "    print(f'El numero {num} no está en el rango')\n",
    "else:\n",
    "    print(f'El numero {num} está en el rango')"
   ]
  },
  {
   "cell_type": "markdown",
   "id": "86df8937",
   "metadata": {},
   "source": [
    "Hay veces que queremos tener una acción `default`, que queremos que suceda en caso de que la comparación sea `false`. Para esto podemos usar una sentencia `else`. Piénselo como preguntarse asi mismo \"Si meto mimano a la bolsa y resulta que encuentro un billete de $50, me compro unos nachos; y si no hay nada, veré que una película con mi novio llorando de tristeza porque no es el otro\""
   ]
  },
  {
   "cell_type": "code",
   "execution_count": null,
   "id": "639358e5",
   "metadata": {},
   "outputs": [
    {
     "name": "stdout",
     "output_type": "stream",
     "text": [
      "La condición no se ha cumplido y por lo tanto yo me imprimo\n"
     ]
    }
   ],
   "source": [
    "var_1 = 4\n",
    "var_2 = 5\n",
    "\n",
    "if (var_1 > var_2):\n",
    "    print ('La condición se cumplió')\n",
    "else:\n",
    "    print('La condición no se ha cumplido y por lo tanto yo me imprimo')"
   ]
  },
  {
   "cell_type": "code",
   "execution_count": 42,
   "id": "c58f7f3c",
   "metadata": {},
   "outputs": [
    {
     "name": "stdout",
     "output_type": "stream",
     "text": [
      "El numero 20 es mayor al número 10\n"
     ]
    }
   ],
   "source": [
    "#Encontrar el número más grande de 2 numeros\n",
    "number_1 = int(input('Introduce el numero 1: '))\n",
    "number_2 = int(input('Introduce el numero 1: '))\n",
    "\n",
    "#Elegir el numero mas grande\n",
    "\n",
    "if(number_1 > number_2):\n",
    "    print(f'El numero {number_1} es mayor al número {number_2}')\n",
    "else:\n",
    "    print (f'El numero {number_2} es mayor al número {number_1}')"
   ]
  },
  {
   "cell_type": "code",
   "execution_count": 43,
   "id": "20882d75",
   "metadata": {},
   "outputs": [
    {
     "name": "stdout",
     "output_type": "stream",
     "text": [
      "El número mayor es: 20\n"
     ]
    }
   ],
   "source": [
    "#Encontrar el número más grande de 2 numeros\n",
    "number_1 = int(input('Introduce el numero 1: '))\n",
    "number_2 = int(input('Introduce el numero 1: '))\n",
    "\n",
    "#Elegir el numero mas grande\n",
    "\n",
    "if(number_1 > number_2):\n",
    "    numero_mayor = number_1\n",
    "else:\n",
    "    numero_mayor = number_2\n",
    "\n",
    "print(f'El número mayor es: {numero_mayor}')"
   ]
  },
  {
   "cell_type": "markdown",
   "id": "c11d7dd2",
   "metadata": {},
   "source": [
    "Si queremos que haya más de dos opciones podemos agregar opciones utilizando la sentencia `elif`"
   ]
  },
  {
   "cell_type": "code",
   "execution_count": 44,
   "id": "bc6e6ef9",
   "metadata": {},
   "outputs": [
    {
     "name": "stdout",
     "output_type": "stream",
     "text": [
      "El 14 es mayor que 12\n"
     ]
    }
   ],
   "source": [
    "var_1 = 12\n",
    "var_2 = 14\n",
    "\n",
    "if (var_1 > var_2):\n",
    "    print(f'El {var_1} es mayor que {var_2}')\n",
    "elif (var_1 < var_2):\n",
    "    print(f'El {var_2} es mayor que {var_1}')\n",
    "else:\n",
    "    print(f'El {var_1} es igual a {var_2}')"
   ]
  },
  {
   "cell_type": "markdown",
   "id": "ccbf602d",
   "metadata": {},
   "source": [
    "#### 1. Comparaciones numéricas\n",
    "\n",
    "Vamos a imaginar que estamos analizando un conjunto de datos que contiene las ventas anuales en pesos de unos vendedores que trabajan en nuestra empresa. Obtenemos el total de ventas anuales en pesos y lo tenemos asignado a la variable ventas_anuales_totales. Escribe una estructura de control que nos diga de cuánto va a ser el bono de nuestro empleado.\n",
    "\n",
    "Si las ventas son mayores a `$`1,000,000 el bono será de 20% del sueldo; si son entre `$`700,000 y `$`1,000,000 el bono será de 15% del sueldo; entre `$`400,000 y `$`700,000 el bono será de 10% del sueldo; entre `$`100,00 y 400,000 el bono será de 5% del sueldo; y debajo de `$`100,000 el bono será del 1% del sueldo.\n",
    "\n",
    "Escribe tu estructura de control y, por ahora (más adelante tendremos más herramientas para hacer esto más interesante) imprime una string que diga de cuánto va a ser el bono.\n",
    "\n",
    "> Reto opcional: Agrega una variable sueldo que sea el sueldo de tu empleado y agrégale el porcentaje de bono a esa variable dependiendo de la condición que se cumpla. Después hasta el final imprime una string interpolada que diga algo como \"Felicidades, tu sueldo es x; tu bono es de x; y el total de sueldo con el bono incluido es de x\". ¡Para que esto funcione también debes de agregar una variable donde guardes la cantidad del bono!"
   ]
  },
  {
   "cell_type": "code",
   "execution_count": null,
   "id": "e2e6d83c",
   "metadata": {},
   "outputs": [
    {
     "name": "stdout",
     "output_type": "stream",
     "text": [
      "El Bono para la venta 100000 es del 5%\n",
      "Tu sueldo de $2000.0 ahora es: $2100.0\n"
     ]
    }
   ],
   "source": [
    "venta = float(input('Introduce la venta: $'))\n",
    "sueldo = float(input('Introduce el sueldo: $'))\n",
    "\n",
    "if(venta >= 1000000):\n",
    "    sueldo_f = sueldo + (sueldo * 0.20)\n",
    "    print (f'El Bono para la venta {venta} es del 20%')\n",
    "    print (f'Tu sueldo de ${sueldo} ahora es: ${sueldo_f}')\n",
    "elif(venta < 1000000 and venta >= 700000):\n",
    "    sueldo_f = sueldo + (sueldo * 0.15)\n",
    "    print (f'El Bono para la venta {venta} es del 15%')\n",
    "    print (f'Tu sueldo de ${sueldo} ahora es: ${sueldo_f}')\n",
    "elif(venta < 700000 and venta >= 400000):\n",
    "    sueldo_f = sueldo + (sueldo * 0.10)\n",
    "    print (f'El Bono para la venta {venta} es del 10%')\n",
    "    print (f'Tu sueldo de ${sueldo} ahora es: ${sueldo_f}')\n",
    "elif(venta < 400000 and venta >= 100000):\n",
    "    sueldo_f = sueldo + (sueldo * 0.05)\n",
    "    print (f'El Bono para la venta {venta} es del 5%')\n",
    "    print (f'Tu sueldo de ${sueldo} ahora es: ${sueldo_f}')\n",
    "else:\n",
    "    print (f'El Bono para la venta {venta} es del 1%')\n",
    "    sueldo_f = sueldo + (sueldo * 0.01)\n",
    "    print (f'Tu sueldo de ${sueldo} ahora es: ${sueldo_f}')"
   ]
  },
  {
   "cell_type": "code",
   "execution_count": null,
   "id": "9f7e849b",
   "metadata": {},
   "outputs": [],
   "source": [
    "venta = float(input('Introduce la venta: $'))\n",
    "sueldo = float(input('Introduce el sueldo: $'))\n",
    "\n",
    "if(venta >= 1000000):\n",
    "    sueldo_f = sueldo + (sueldo * 0.20)\n",
    "elif(venta < 1000000 and venta >= 700000):\n",
    "    sueldo_f = sueldo + (sueldo * 0.15)\n",
    "elif(venta < 700000 and venta >= 400000):\n",
    "    sueldo_f = sueldo + (sueldo * 0.10)\n",
    "elif(venta < 400000 and venta >= 100000):\n",
    "    sueldo_f = sueldo + (sueldo * 0.05)\n",
    "else:\n",
    "    sueldo_f = sueldo + (sueldo * 0.01)\n",
    "\n",
    "print (f'El Bono para la venta {venta} es del 1%')\n",
    "print (f'Tu sueldo de ${sueldo} ahora es: ${sueldo_f}')"
   ]
  }
 ],
 "metadata": {
  "kernelspec": {
   "display_name": "Python 3",
   "language": "python",
   "name": "python3"
  },
  "language_info": {
   "codemirror_mode": {
    "name": "ipython",
    "version": 3
   },
   "file_extension": ".py",
   "mimetype": "text/x-python",
   "name": "python",
   "nbconvert_exporter": "python",
   "pygments_lexer": "ipython3",
   "version": "3.13.3"
  }
 },
 "nbformat": 4,
 "nbformat_minor": 5
}
