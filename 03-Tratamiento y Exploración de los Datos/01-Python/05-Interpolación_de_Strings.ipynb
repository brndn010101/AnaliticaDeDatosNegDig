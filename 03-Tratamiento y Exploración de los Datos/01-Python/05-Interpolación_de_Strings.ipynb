{
 "cells": [
  {
   "cell_type": "markdown",
   "id": "4db5ba63",
   "metadata": {},
   "source": [
    "## Interpolación de Strings\n",
    "\n",
    "### Objetivos:\n",
    "\n",
    "- Aprender a imprimir Strings\n",
    "- Aprender a interpolar variables dentro de Strings\n",
    "\n",
    "---\n",
    "\n",
    "### Desarrollo:"
   ]
  },
  {
   "cell_type": "markdown",
   "id": "6077f894",
   "metadata": {},
   "source": [
    "Podemos hacer anotaciones en los outputs de nuestro código de esta manera:"
   ]
  },
  {
   "cell_type": "code",
   "execution_count": 8,
   "id": "64a458e4",
   "metadata": {},
   "outputs": [
    {
     "name": "stdout",
     "output_type": "stream",
     "text": [
      "Suma de var_1 y var_2\n",
      "38.7\n"
     ]
    }
   ],
   "source": [
    "var_1 = 15.3\n",
    "var_2 = 23.4\n",
    "\n",
    "print ('Suma de var_1 y var_2')\n",
    "print (var_1 + var_2)"
   ]
  },
  {
   "cell_type": "markdown",
   "id": "599f1b75",
   "metadata": {},
   "source": [
    "Pero a veces reuslta necesario o deseable interpolar el valor dentro de dicho string. Para ello utilizamos las llamadas `f-strings`. Su formato es el siguiente:\n",
    "\n",
    "`\"Esto es texto {esto_es_una_variable} esto es más texto`\n",
    "\n",
    "Escribiendo una `f` antes de las comillas le indicamos a Python que lo pongas dentro de las llaves (`{}`) será código de Python. En este caso una variable asignada previamente.\n",
    "\n",
    "Ahora podemos hacer lo siguiente:"
   ]
  },
  {
   "cell_type": "code",
   "execution_count": 9,
   "id": "0d800e2f",
   "metadata": {},
   "outputs": [
    {
     "name": "stdout",
     "output_type": "stream",
     "text": [
      "La suma = 67.3\n"
     ]
    }
   ],
   "source": [
    "var_3 = 43\n",
    "var_4 = 24.3\n",
    "\n",
    "suma = var_3 + var_4\n",
    "\n",
    "print(f'La suma = {suma}')"
   ]
  },
  {
   "cell_type": "code",
   "execution_count": 10,
   "id": "29c18a15",
   "metadata": {},
   "outputs": [
    {
     "name": "stdout",
     "output_type": "stream",
     "text": [
      "El nombre del programa es: Paganini y la suma de los valores 10.0 y 20.0 es: 30.0\n"
     ]
    }
   ],
   "source": [
    "nombre_programa = input('Introduce el nombre del programa: ')\n",
    "var_3 = float(input('Introduce el primer valor: '))\n",
    "var_4 = float(input('Introduce el segundo valor: '))\n",
    "\n",
    "suma = var_3 + var_4\n",
    "\n",
    "print (f'El nombre del programa es: {nombre_programa} y la suma de los valores {var_3} y {var_4} es: {suma}')"
   ]
  },
  {
   "cell_type": "code",
   "execution_count": 15,
   "id": "7bfc5002",
   "metadata": {},
   "outputs": [],
   "source": [
    "def sumar (numero_1, numero_2):\n",
    "    return numero_1 + numero_2"
   ]
  },
  {
   "cell_type": "code",
   "execution_count": 16,
   "id": "71908383",
   "metadata": {},
   "outputs": [
    {
     "name": "stdout",
     "output_type": "stream",
     "text": [
      "30.0\n"
     ]
    }
   ],
   "source": [
    "var_3 = float(input('Introduce el primer valor: '))\n",
    "var_4 = float(input('Introduce el segundo valor: '))\n",
    "\n",
    "suma = sumar (var_3, var_4)\n",
    "\n",
    "print  (suma)"
   ]
  },
  {
   "cell_type": "code",
   "execution_count": 17,
   "id": "c29f40bc",
   "metadata": {},
   "outputs": [
    {
     "name": "stdout",
     "output_type": "stream",
     "text": [
      "30.0\n"
     ]
    }
   ],
   "source": [
    "def solicitar_valor ():\n",
    "    return float(input('Introduce el primer valor: '))\n",
    "\n",
    "var_3 = solicitar_valor()\n",
    "var_4 = solicitar_valor()\n",
    "\n",
    "suma = sumar (var_3, var_4)\n",
    "\n",
    "print (suma)"
   ]
  }
 ],
 "metadata": {
  "kernelspec": {
   "display_name": "Python 3",
   "language": "python",
   "name": "python3"
  },
  "language_info": {
   "codemirror_mode": {
    "name": "ipython",
    "version": 3
   },
   "file_extension": ".py",
   "mimetype": "text/x-python",
   "name": "python",
   "nbconvert_exporter": "python",
   "pygments_lexer": "ipython3",
   "version": "3.13.3"
  }
 },
 "nbformat": 4,
 "nbformat_minor": 5
}
