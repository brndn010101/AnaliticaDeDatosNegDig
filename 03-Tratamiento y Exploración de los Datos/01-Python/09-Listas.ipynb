{
 "cells": [
  {
   "cell_type": "markdown",
   "id": "cab60143",
   "metadata": {},
   "source": [
    "# Listas\n",
    "1. Objetivos\n",
    "- Entender la sintaxis de las listas en Python\n",
    "- Aprender a crear listas y accesarlas\n",
    "\n",
    "---"
   ]
  },
  {
   "cell_type": "markdown",
   "id": "4a094318",
   "metadata": {},
   "source": [
    "2. Desarrollo"
   ]
  },
  {
   "cell_type": "markdown",
   "id": "1fee65a3",
   "metadata": {},
   "source": [
    "## Creando listas accediendo a ellas\n",
    "\n",
    "Las listas son secuencias ordenadas. El orden de los datos en la lista es el mismo orden que tiene los datos a la hora de ser asignados. Una lista se ve así:"
   ]
  },
  {
   "cell_type": "code",
   "execution_count": 2,
   "id": "a4a38c77",
   "metadata": {},
   "outputs": [
    {
     "data": {
      "text/plain": [
       "[1, 4, 6, 2, 4]"
      ]
     },
     "execution_count": 2,
     "metadata": {},
     "output_type": "execute_result"
    }
   ],
   "source": [
    "lista_1 = [1, 4, 6, 2, 4]\n",
    "\n",
    "lista_1"
   ]
  },
  {
   "cell_type": "code",
   "execution_count": 4,
   "id": "18cb5318",
   "metadata": {},
   "outputs": [
    {
     "data": {
      "text/plain": [
       "list"
      ]
     },
     "execution_count": 4,
     "metadata": {},
     "output_type": "execute_result"
    }
   ],
   "source": [
    "type(lista_1)"
   ]
  },
  {
   "cell_type": "markdown",
   "id": "e6e02fc9",
   "metadata": {},
   "source": [
    "Cada elemento de la lista tiene un índice que se usa para acceder a dicho elemento, dado que las listas son ordenadas, los índices se van asignando secuencialmente desde el primer elemento hasta el último. El primer índice es siempre `0` y por lo tanto, el último índice es siempre `n - 1`, donde `n` es el número total de elementos en la lista."
   ]
  },
  {
   "cell_type": "code",
   "execution_count": 5,
   "id": "c3e0491c",
   "metadata": {},
   "outputs": [
    {
     "name": "stdout",
     "output_type": "stream",
     "text": [
      "Primer elemento de la lista: 1\n"
     ]
    }
   ],
   "source": [
    "#Imprimir el primer elemento de la lista\n",
    "\n",
    "print(f'Primer elemento de la lista: {lista_1[0]}')"
   ]
  },
  {
   "cell_type": "code",
   "execution_count": 8,
   "id": "abed11b5",
   "metadata": {},
   "outputs": [
    {
     "name": "stdout",
     "output_type": "stream",
     "text": [
      "Último elemento de la lista: 4\n"
     ]
    }
   ],
   "source": [
    "#Imprimir el último elemento de la lista\n",
    "\n",
    "print(f'Último elemento de la lista: {lista_1[4]}')"
   ]
  },
  {
   "cell_type": "code",
   "execution_count": 9,
   "id": "ddc86825",
   "metadata": {},
   "outputs": [
    {
     "ename": "IndexError",
     "evalue": "list index out of range",
     "output_type": "error",
     "traceback": [
      "\u001b[31m---------------------------------------------------------------------------\u001b[39m",
      "\u001b[31mIndexError\u001b[39m                                Traceback (most recent call last)",
      "\u001b[36mCell\u001b[39m\u001b[36m \u001b[39m\u001b[32mIn[9]\u001b[39m\u001b[32m, line 3\u001b[39m\n\u001b[32m      1\u001b[39m \u001b[38;5;66;03m#Imprimir el último elemento de la lista\u001b[39;00m\n\u001b[32m----> \u001b[39m\u001b[32m3\u001b[39m \u001b[38;5;28mprint\u001b[39m(\u001b[33mf\u001b[39m\u001b[33m'\u001b[39m\u001b[33mÚltimo elemento de la lista: \u001b[39m\u001b[38;5;132;01m{\u001b[39;00m\u001b[43mlista_1\u001b[49m\u001b[43m[\u001b[49m\u001b[32;43m5\u001b[39;49m\u001b[43m]\u001b[49m\u001b[38;5;132;01m}\u001b[39;00m\u001b[33m'\u001b[39m)\n",
      "\u001b[31mIndexError\u001b[39m: list index out of range"
     ]
    }
   ],
   "source": [
    "#Imprimir el último elemento de la lista\n",
    "\n",
    "print(f'Último elemento de la lista: {lista_1[5]}')"
   ]
  },
  {
   "cell_type": "code",
   "execution_count": 2,
   "id": "2d0f4239",
   "metadata": {},
   "outputs": [
    {
     "name": "stdout",
     "output_type": "stream",
     "text": [
      "Contendio de la lista: [10, 5, 7, 2, 1]\n",
      "<class 'list'>\n"
     ]
    }
   ],
   "source": [
    "numbers = [10,5,7,2,1]\n",
    "\n",
    "#Imprimir el contenido de la lista\n",
    "print (f'Contendio de la lista: {numbers}')\n",
    "print(type(numbers))"
   ]
  },
  {
   "cell_type": "code",
   "execution_count": null,
   "id": "f178e351",
   "metadata": {},
   "outputs": [
    {
     "data": {
      "text/plain": [
       "2"
      ]
     },
     "execution_count": 3,
     "metadata": {},
     "output_type": "execute_result"
    }
   ],
   "source": [
    "#Permite accesar al valor que se encuentra en la posición\n",
    "numbers[3]"
   ]
  },
  {
   "cell_type": "markdown",
   "id": "a8fc4cf2",
   "metadata": {},
   "source": [
    "**Vamos a asignar un nuevo valor 111 al primer elemento en la lista. Lo hacemos de la siguiente manera:**"
   ]
  },
  {
   "cell_type": "code",
   "execution_count": 5,
   "id": "6e2591a5",
   "metadata": {},
   "outputs": [
    {
     "name": "stdout",
     "output_type": "stream",
     "text": [
      "[111, 5, 7, 2, 1]\n"
     ]
    }
   ],
   "source": [
    "numbers[0] = 111\n",
    "print (numbers)"
   ]
  },
  {
   "cell_type": "code",
   "execution_count": 7,
   "id": "db2f7785",
   "metadata": {},
   "outputs": [
    {
     "name": "stdout",
     "output_type": "stream",
     "text": [
      "[111, 1, 7, 2, 1]\n"
     ]
    }
   ],
   "source": [
    "#Copiar el valor del quinto elemento al segundo\n",
    "\n",
    "numbers [1] = numbers [4]\n",
    "print (numbers)"
   ]
  },
  {
   "cell_type": "code",
   "execution_count": 10,
   "id": "2cd621e4",
   "metadata": {},
   "outputs": [
    {
     "name": "stdout",
     "output_type": "stream",
     "text": [
      "111\n"
     ]
    }
   ],
   "source": [
    "print (numbers[-5])"
   ]
  },
  {
   "cell_type": "markdown",
   "id": "eec79ae5",
   "metadata": {},
   "source": [
    "### Eliminando elementos de la lista"
   ]
  },
  {
   "cell_type": "markdown",
   "id": "97645ce5",
   "metadata": {},
   "source": [
    "Cualquier elemento de la lista puede ser eliminado en cualquier momento - esto se hace con una instrucción llamada `del` (eliminar). Nota: es una instrucción, no una función.\n",
    "\n",
    "Tienes que apuntar el elemento que quieres eliminar - desaparecerá de la lista y la longitud de la lista se reducirá en uno."
   ]
  },
  {
   "cell_type": "code",
   "execution_count": null,
   "id": "1b640473",
   "metadata": {},
   "outputs": [
    {
     "name": "stdout",
     "output_type": "stream",
     "text": [
      "La lista actual es: [111, 1, 7, 2, 1]\n"
     ]
    }
   ],
   "source": [
    "print(f'La lista actual es: {numbers}')"
   ]
  },
  {
   "cell_type": "code",
   "execution_count": 12,
   "id": "955f6c0c",
   "metadata": {},
   "outputs": [
    {
     "name": "stdout",
     "output_type": "stream",
     "text": [
      "[111, 1, 2, 1]\n"
     ]
    }
   ],
   "source": [
    "del numbers [2]\n",
    "print (numbers)"
   ]
  },
  {
   "cell_type": "code",
   "execution_count": 14,
   "id": "59ed05ee",
   "metadata": {},
   "outputs": [
    {
     "name": "stdout",
     "output_type": "stream",
     "text": [
      "4\n",
      "El tamaño de la lista es: 4\n"
     ]
    }
   ],
   "source": [
    "print(len(numbers))\n",
    "print (f'El tamaño de la lista es: {len(numbers)}')"
   ]
  },
  {
   "cell_type": "markdown",
   "id": "30577461",
   "metadata": {},
   "source": [
    "Tamaño: 4 (Elementos totales)\n",
    "Índice: 3 (0,1,2,3)"
   ]
  },
  {
   "cell_type": "code",
   "execution_count": 15,
   "id": "d36f11c8",
   "metadata": {},
   "outputs": [
    {
     "name": "stdout",
     "output_type": "stream",
     "text": [
      "La lista actual es: [111, 1, 1]\n",
      "El tamaño de la lista es 3\n"
     ]
    }
   ],
   "source": [
    "del numbers[-2]\n",
    "print(f'La lista actual es: {numbers}')\n",
    "print(f'El tamaño de la lista es {len(numbers)}')"
   ]
  },
  {
   "cell_type": "markdown",
   "id": "dcde5375",
   "metadata": {},
   "source": [
    "La posición con negativos es en dirección inversa [-3 ,-2 ,-1]"
   ]
  },
  {
   "cell_type": "code",
   "execution_count": 17,
   "id": "cad43a3c",
   "metadata": {},
   "outputs": [
    {
     "name": "stdout",
     "output_type": "stream",
     "text": [
      "La lista actual es: [1, 4, 6, 2, 11]\n",
      "El tamaño de la lista es 5\n"
     ]
    }
   ],
   "source": [
    "lista_prueba = [1, 2, 4, 6, 2, 11]\n",
    "# remove - Elimina o remueve la primera coincidencia de un valor\n",
    "# que se le indiica\n",
    "\n",
    "lista_prueba.remove(2)\n",
    "print(f'La lista actual es: {lista_prueba}')\n",
    "print(f'El tamaño de la lista es {len(lista_prueba)}')"
   ]
  },
  {
   "cell_type": "code",
   "execution_count": 18,
   "id": "266ddd0a",
   "metadata": {},
   "outputs": [
    {
     "name": "stdout",
     "output_type": "stream",
     "text": [
      "[1, 4, 6, 11]\n"
     ]
    }
   ],
   "source": [
    "lista_prueba = [1, 2, 4, 6, 2, 11]\n",
    "\n",
    "def eliminar(valor):\n",
    "    for indice, elemento in enumerate (lista_prueba):\n",
    "        if elemento == valor:\n",
    "            del lista_prueba[indice]\n",
    "    \n",
    "eliminar (2)\n",
    "print(lista_prueba)"
   ]
  },
  {
   "cell_type": "code",
   "execution_count": 21,
   "id": "ecf35ce5",
   "metadata": {},
   "outputs": [
    {
     "name": "stdout",
     "output_type": "stream",
     "text": [
      "Lista antes de eliminar: [1, 2, 4, 6, 2, 11]\n",
      "Lista después de eliminar: [1, 4, 6, 11]\n"
     ]
    }
   ],
   "source": [
    "lista_prueba = [1, 2, 4, 6, 2, 11]\n",
    "\n",
    "def eliminar(valor):\n",
    "    for indice, elemento in enumerate (lista_prueba):\n",
    "        if elemento == valor:\n",
    "            del lista_prueba[indice]\n",
    "\n",
    "print(f'Lista antes de eliminar: {lista_prueba}')    \n",
    "eliminar (2)\n",
    "print(f'Lista después de eliminar: {lista_prueba}')"
   ]
  },
  {
   "cell_type": "markdown",
   "id": "f062f712",
   "metadata": {},
   "source": [
    "### Los Índices Negativos son Legales\n",
    "\n",
    "`Un elemento con índice = -1 es el último en la lista`"
   ]
  },
  {
   "cell_type": "code",
   "execution_count": 23,
   "id": "98075a9e",
   "metadata": {},
   "outputs": [
    {
     "name": "stdout",
     "output_type": "stream",
     "text": [
      "El último valor de la lista es: 1\n",
      "El último valor de la lista es: 7\n"
     ]
    }
   ],
   "source": [
    "numbers_2 = [111, 7, 2, 1]\n",
    "print(f'El último valor de la lista es: {numbers_2[-1]}')\n",
    "\n",
    "print(f'El último valor de la lista es: {numbers_2[-3]}')"
   ]
  },
  {
   "cell_type": "markdown",
   "id": "bdd79ac8",
   "metadata": {},
   "source": [
    "## Ejercicio de Listas"
   ]
  },
  {
   "cell_type": "code",
   "execution_count": 58,
   "id": "b53ac834",
   "metadata": {},
   "outputs": [
    {
     "name": "stdout",
     "output_type": "stream",
     "text": [
      "La lista es después de reemplazar 3 con 7: [1, 2, 7, 4, 5]\n",
      "La lista después de eliminar el último número es: [1, 2, 7, 4]\n",
      "La longitud de la lista es: 4\n"
     ]
    }
   ],
   "source": [
    "hat_list = [1, 2, 3, 4, 5]  # Esta es una lista existente de números ocultos en el sombrero.\n",
    "\n",
    "# Paso 1: escribe una línea de código que solicite al usuario\n",
    "num_usr = int(input('Inserte un número: '))\n",
    "\n",
    "# reemplazar el número de en medio con un número entero ingresado por el usuario.\n",
    "hat_list [2] = num_usr\n",
    "print(f'La lista es después de reemplazar 3 con {num_usr}: {hat_list}')\n",
    "# Paso 2: escribe aquí una línea de código que elimine el último elemento de la lista.\n",
    "del hat_list[-1]\n",
    "print(f'La lista después de eliminar el último número es: {hat_list}')\n",
    "\n",
    "# Paso 3: escribe aquí una línea de código que imprima la longitud de la lista existente.\n",
    "print(f'La longitud de la lista es: {len(hat_list)}')"
   ]
  },
  {
   "cell_type": "markdown",
   "id": "579c6d79",
   "metadata": {},
   "source": [
    "## Agregando elementos a una lista con los métodos: append() e insert()\n",
    "\n",
    "Un nuevo elemento puede ser añadido al final de la lista existente con el método `list.append(value)`\n",
    "\n",
    "El método `insert()` es un poco más inteligente, puede agregar un nuevo elemento en cualquier lugar de la lista.\n",
    "`list.inser(location, value)`.\n",
    "\n",
    "Toma dos argumentos:\n",
    "- El primero muestra la ubicación requerida del elemento a insertar; nota: todos los elementos existentes que ocupan ubicaciones a la derecha del nuevo elemento (incluido el que está en la posición indicada) se desplazan a la derecha, para hacer espacio para el nuevo elemento;\n",
    "- El segundo es el elemento a insertar."
   ]
  },
  {
   "cell_type": "code",
   "execution_count": 26,
   "id": "4dcbc2df",
   "metadata": {},
   "outputs": [
    {
     "name": "stdout",
     "output_type": "stream",
     "text": [
      "La lista es: [123, 8, 4, 1]\n",
      "El tamaño de la lista es: 4\n",
      "La lista ahora es: [123, 8, 4, 1, 10]\n",
      "El tamaño de la lista es: 5\n"
     ]
    }
   ],
   "source": [
    "numbers_3 = [123, 8, 4, 1]\n",
    "print(f'La lista es: {numbers_3}')\n",
    "print(f'El tamaño de la lista es: {len(numbers_3)}')\n",
    "\n",
    "# Agregar un valor al final de la lista con el método append\n",
    "\n",
    "numbers_3.append(10)\n",
    "print(f'La lista ahora es: {numbers_3}')\n",
    "print(f'El tamaño de la lista es: {len(numbers_3)}')"
   ]
  },
  {
   "cell_type": "code",
   "execution_count": 27,
   "id": "c5acbbeb",
   "metadata": {},
   "outputs": [
    {
     "name": "stdout",
     "output_type": "stream",
     "text": [
      "La lista ahora es: [123, 8, 4, 1, 11]\n",
      "El tamaño de la lista es: 5\n"
     ]
    }
   ],
   "source": [
    "def agregarAlFinal(valor):\n",
    "    numbers_3[-1] = valor\n",
    "agregarAlFinal(11)\n",
    "print(f'La lista ahora es: {numbers_3}')\n",
    "print(f'El tamaño de la lista es: {len(numbers_3)}')"
   ]
  },
  {
   "cell_type": "code",
   "execution_count": 28,
   "id": "b019dc93",
   "metadata": {},
   "outputs": [
    {
     "name": "stdout",
     "output_type": "stream",
     "text": [
      "La lista actual es: [123, 8, 4, 1, 11]\n",
      "El tamaño de la lista es: 5\n",
      "La lista ahora es: [222, 123, 8, 4, 1, 11]\n",
      "El tamaño de la lista es: 6\n"
     ]
    }
   ],
   "source": [
    "numbers_3 = [123, 8, 4, 1, 11]\n",
    "print(f'La lista actual es: {numbers_3}')\n",
    "print(f'El tamaño de la lista es: {len(numbers_3)}')\n",
    "\n",
    "numbers_3.insert(0, 222)\n",
    "print(f'La lista ahora es: {numbers_3}')\n",
    "print(f'El tamaño de la lista es: {len(numbers_3)}')"
   ]
  },
  {
   "cell_type": "code",
   "execution_count": 35,
   "id": "2ad1e4d2",
   "metadata": {},
   "outputs": [],
   "source": [
    "def llenar_lista_append (valor):\n",
    "    my_list = []\n",
    "    for i in range (valor):\n",
    "        my_list.append(i+1)\n",
    "    return my_list"
   ]
  },
  {
   "cell_type": "code",
   "execution_count": 36,
   "id": "f8ef184f",
   "metadata": {},
   "outputs": [],
   "source": [
    "def imprimir_lista(lista):\n",
    "    print(f'La lista es: {lista}')"
   ]
  },
  {
   "cell_type": "code",
   "execution_count": 37,
   "id": "8615e817",
   "metadata": {},
   "outputs": [
    {
     "name": "stdout",
     "output_type": "stream",
     "text": [
      "La lista es: [1, 2, 3, 4, 5, 6, 7, 8, 9, 10]\n"
     ]
    }
   ],
   "source": [
    "lista = llenar_lista_append (10)\n",
    "imprimir_lista(lista)"
   ]
  },
  {
   "cell_type": "code",
   "execution_count": 38,
   "id": "5ba6ac1d",
   "metadata": {},
   "outputs": [
    {
     "name": "stdout",
     "output_type": "stream",
     "text": [
      "[5, 4, 3, 2, 1]\n"
     ]
    }
   ],
   "source": [
    "my_list = []\n",
    "for i in range (5):\n",
    "    my_list.insert(0, i+1)\n",
    "print(my_list)"
   ]
  },
  {
   "cell_type": "code",
   "execution_count": 42,
   "id": "4e9b6e70",
   "metadata": {},
   "outputs": [
    {
     "name": "stdout",
     "output_type": "stream",
     "text": [
      "10\n",
      "1\n",
      "8\n",
      "3\n",
      "5\n"
     ]
    }
   ],
   "source": [
    "# Recorrer la lista con un ciclo\n",
    "mi_lista = [10, 1, 8, 3, 5]\n",
    "for i in mi_lista:\n",
    "    print(i)"
   ]
  },
  {
   "cell_type": "code",
   "execution_count": 44,
   "id": "22b638c1",
   "metadata": {},
   "outputs": [
    {
     "name": "stdout",
     "output_type": "stream",
     "text": [
      "La suma de los valores de la lista es: 27\n"
     ]
    }
   ],
   "source": [
    "#Sumar los valores de la lista\n",
    "total = 0\n",
    "for i in mi_lista:\n",
    "    total += i\n",
    "print(f'La suma de los valores de la lista es: {total}')"
   ]
  },
  {
   "cell_type": "markdown",
   "id": "b6173c9e",
   "metadata": {},
   "source": [
    "### Realizar un programa que permita almacenar varias calificaiones en una lista para después poder saca el promedio utilizando una función."
   ]
  },
  {
   "cell_type": "code",
   "execution_count": 56,
   "id": "c1f9f193",
   "metadata": {},
   "outputs": [],
   "source": [
    "def guardar_calificaciones (numero):\n",
    "    lista_calificaciones = []\n",
    "    i = 1\n",
    "    while i <= numero:\n",
    "        calificacion = float(input(f'Solicita la calificación {i}:'))\n",
    "        lista_calificaciones.append(calificacion)\n",
    "        i+=1\n",
    "    return lista_calificaciones"
   ]
  },
  {
   "cell_type": "code",
   "execution_count": 59,
   "id": "0051dfb6",
   "metadata": {},
   "outputs": [
    {
     "name": "stdout",
     "output_type": "stream",
     "text": [
      "[10.0, 9.0, 10.0, 9.0, 10.0]\n"
     ]
    }
   ],
   "source": [
    "lista = guardar_calificaciones (5)\n",
    "print (lista)"
   ]
  }
 ],
 "metadata": {
  "kernelspec": {
   "display_name": "Python 3",
   "language": "python",
   "name": "python3"
  },
  "language_info": {
   "codemirror_mode": {
    "name": "ipython",
    "version": 3
   },
   "file_extension": ".py",
   "mimetype": "text/x-python",
   "name": "python",
   "nbconvert_exporter": "python",
   "pygments_lexer": "ipython3",
   "version": "3.13.3"
  }
 },
 "nbformat": 4,
 "nbformat_minor": 5
}
