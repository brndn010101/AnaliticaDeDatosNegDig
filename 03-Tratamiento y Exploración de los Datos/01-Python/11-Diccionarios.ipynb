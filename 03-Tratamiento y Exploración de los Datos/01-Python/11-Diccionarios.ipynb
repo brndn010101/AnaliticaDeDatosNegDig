{
 "cells": [
  {
   "cell_type": "markdown",
   "id": "0617c5c5",
   "metadata": {},
   "source": [
    "># Crear y accesar a los diccionarios"
   ]
  },
  {
   "cell_type": "markdown",
   "id": "86535a14",
   "metadata": {},
   "source": [
    "## Objetivos\n",
    "- Aprender a crear diccionarios con pares llaves:valor\n",
    "- Aprender a accesar a los valores guardados\n",
    "\n",
    "---"
   ]
  },
  {
   "cell_type": "markdown",
   "id": "6aece65e",
   "metadata": {},
   "source": [
    "## Desarrollo:\n",
    "\n",
    "Los diccionarios se definen usando (`{}`)"
   ]
  },
  {
   "cell_type": "code",
   "execution_count": 1,
   "id": "738020f5",
   "metadata": {},
   "outputs": [],
   "source": [
    "diccionario_1 = {}"
   ]
  },
  {
   "cell_type": "markdown",
   "id": "318d099a",
   "metadata": {},
   "source": [
    "diccionario_1 ya es un diccionario, solo que está vacío. Para incluir datos dentro de un diccionario tenemos qué agregar pares llave:valor dentro de las llaves ({}). Cada par llave:valor se separa con una coma (,)."
   ]
  },
  {
   "cell_type": "code",
   "execution_count": 2,
   "id": "fdae55e8",
   "metadata": {},
   "outputs": [],
   "source": [
    "diccionario_2  = {\n",
    "    'llave_1' : 'valor_1',\n",
    "    'llave_2' : 'valor_2',\n",
    "    'llave_3' : 'valor_3',\n",
    "    'llave_4' : 'valor_4'\n",
    "}"
   ]
  },
  {
   "cell_type": "markdown",
   "id": "5d735782",
   "metadata": {},
   "source": [
    "Nuestras llaves pueden ser tanto `string` como `int` (pueden ser otras cosas, pero estos son los más comunes)."
   ]
  },
  {
   "cell_type": "code",
   "execution_count": 3,
   "id": "eaab2726",
   "metadata": {},
   "outputs": [],
   "source": [
    "diccionario_3 = {\n",
    "    1 : 'Uno',\n",
    "    2 : 'Dos',\n",
    "    3 : 'Tres',\n",
    "    4 : 'Cuatro'\n",
    "}"
   ]
  },
  {
   "cell_type": "markdown",
   "id": "fbe6584c",
   "metadata": {},
   "source": [
    "Nuestros valores pueden ser cualquier tipo de dato que se conozca hasta este momento."
   ]
  },
  {
   "cell_type": "code",
   "execution_count": 21,
   "id": "c14352c5",
   "metadata": {},
   "outputs": [],
   "source": [
    "diccionario_4 = {\n",
    "    'int' : 123,\n",
    "    'float' : 23.5,\n",
    "    'string' : 'Hola',\n",
    "    'boolean' : True,\n",
    "    'lista' : [1, 2, 3, 4],\n",
    "    'diccionario' : {\n",
    "        1 : 'uno',\n",
    "        2 : 'dos'\n",
    "    }\n",
    "}"
   ]
  },
  {
   "cell_type": "markdown",
   "id": "36887dd1",
   "metadata": {},
   "source": [
    "Acceder a un diccionario es tan fácil como escribir el nombre del diccionario, agregar corchetes (`[]`) y pasarle el nombre de la llave (o clave) que quieres acceder. Por obvias razones, un diccionario no puede tener más de una llave con el mismo nombre. Si tenemos otras estructuras de datos dentro de nuestro diccionario podemos acceder a los elementos dentro de ellas después de haber accedido primero a toda la estructura de datos."
   ]
  },
  {
   "cell_type": "code",
   "execution_count": 22,
   "id": "48111f3d",
   "metadata": {},
   "outputs": [
    {
     "name": "stdout",
     "output_type": "stream",
     "text": [
      "23.5\n"
     ]
    }
   ],
   "source": [
    "print(diccionario_4['float'])"
   ]
  },
  {
   "cell_type": "code",
   "execution_count": 23,
   "id": "82bb4bcb",
   "metadata": {},
   "outputs": [
    {
     "name": "stdout",
     "output_type": "stream",
     "text": [
      "True\n"
     ]
    }
   ],
   "source": [
    "print(diccionario_4['boolean'])"
   ]
  },
  {
   "cell_type": "code",
   "execution_count": 24,
   "id": "2cc2e84a",
   "metadata": {},
   "outputs": [
    {
     "name": "stdout",
     "output_type": "stream",
     "text": [
      "[1, 2, 3, 4]\n"
     ]
    }
   ],
   "source": [
    "print(diccionario_4['lista'])"
   ]
  },
  {
   "cell_type": "code",
   "execution_count": 25,
   "id": "2ea8ed76",
   "metadata": {},
   "outputs": [
    {
     "name": "stdout",
     "output_type": "stream",
     "text": [
      "3\n"
     ]
    }
   ],
   "source": [
    "print(diccionario_4['lista'][2])"
   ]
  },
  {
   "cell_type": "code",
   "execution_count": 26,
   "id": "0b25341b",
   "metadata": {},
   "outputs": [
    {
     "name": "stdout",
     "output_type": "stream",
     "text": [
      "dos\n"
     ]
    }
   ],
   "source": [
    "print(diccionario_4['diccionario'][2])"
   ]
  }
 ],
 "metadata": {
  "kernelspec": {
   "display_name": "Python 3",
   "language": "python",
   "name": "python3"
  },
  "language_info": {
   "codemirror_mode": {
    "name": "ipython",
    "version": 3
   },
   "file_extension": ".py",
   "mimetype": "text/x-python",
   "name": "python",
   "nbconvert_exporter": "python",
   "pygments_lexer": "ipython3",
   "version": "3.13.3"
  }
 },
 "nbformat": 4,
 "nbformat_minor": 5
}
