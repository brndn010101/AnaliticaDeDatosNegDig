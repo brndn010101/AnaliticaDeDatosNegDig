{
 "cells": [
  {
   "cell_type": "markdown",
   "id": "f28be9bd",
   "metadata": {},
   "source": [
    "># Modificando Diccionarios"
   ]
  },
  {
   "cell_type": "markdown",
   "id": "93a4b823",
   "metadata": {},
   "source": [
    "## 1. Objetivos\n",
    "- Practicar los tres métodos básicos de modificación de diccionarios: **Agregar datos, modificar datos y borrar llaves**"
   ]
  },
  {
   "cell_type": "markdown",
   "id": "b23902ab",
   "metadata": {},
   "source": [
    "## 2. Desarrollo\n",
    "Tenemos 3 manaeras básicas de modificar los diccionarios\n",
    "\n",
    "---"
   ]
  },
  {
   "cell_type": "markdown",
   "id": "83614d30",
   "metadata": {},
   "source": [
    "### Agregar datos\n",
    "Para agregar un dato a un diccionario ya existente basta con llamar la llave que queremos agregar y asignar un valor. "
   ]
  },
  {
   "cell_type": "code",
   "execution_count": 1,
   "id": "08142ccb",
   "metadata": {},
   "outputs": [],
   "source": [
    "from pprint import pprint"
   ]
  },
  {
   "cell_type": "code",
   "execution_count": 9,
   "id": "a1e20b63",
   "metadata": {},
   "outputs": [
    {
     "name": "stdout",
     "output_type": "stream",
     "text": [
      "{'nombre': 'Maluma', 'tel': 5546352431, 'dir': {'colonia': 'El 61', 'calle': 'Pirineos', 'num': 69, 'cp': 42830}}\n"
     ]
    }
   ],
   "source": [
    "info_de_contacto = {\n",
    "    'nombre' : 'Maluma',\n",
    "    'tel' : 5546352431,\n",
    "    'dir' : {\n",
    "        'colonia' : 'El 61',\n",
    "        'calle' : 'Pirineos',\n",
    "        'num' : 69,\n",
    "        'cp'  : 42830\n",
    "    }\n",
    "}\n",
    "\n",
    "print(info_de_contacto)"
   ]
  },
  {
   "cell_type": "code",
   "execution_count": 4,
   "id": "37e0e043",
   "metadata": {},
   "outputs": [
    {
     "name": "stdout",
     "output_type": "stream",
     "text": [
      "{'dir': {'calle': 'Pirineos', 'colonia': 'El 61', 'cp': 42830, 'num': 69},\n",
      " 'nombre': 'Maluma',\n",
      " 'tel': 5546352431}\n"
     ]
    }
   ],
   "source": [
    "pprint(info_de_contacto)"
   ]
  },
  {
   "cell_type": "code",
   "execution_count": 10,
   "id": "0e3b1b50",
   "metadata": {},
   "outputs": [],
   "source": [
    "info_de_contacto['email'] = 'Maluma_hasta_abajo@reguechafa.com'"
   ]
  },
  {
   "cell_type": "code",
   "execution_count": 6,
   "id": "3f28e06b",
   "metadata": {},
   "outputs": [
    {
     "name": "stdout",
     "output_type": "stream",
     "text": [
      "{'dir': {'calle': 'Pirineos', 'colonia': 'El 61', 'cp': 42830, 'num': 69},\n",
      " 'email': 'Maluma_hasta_abajo@reguechafa.com',\n",
      " 'nombre': 'Maluma',\n",
      " 'tel': 5546352431}\n"
     ]
    }
   ],
   "source": [
    "pprint(info_de_contacto)"
   ]
  },
  {
   "cell_type": "markdown",
   "id": "9b2ebe51",
   "metadata": {},
   "source": [
    "## Modificar pares llave:valor existentes\n",
    "Para modificar un par llave:valor ya existenete, basta con reasignar a una llave de nuestro diccionario el nuevo valor que queremos agregar. Por ejemplo, imaginemos que esta persona cambió de dirección:"
   ]
  },
  {
   "cell_type": "code",
   "execution_count": 11,
   "id": "ce09b77b",
   "metadata": {},
   "outputs": [
    {
     "name": "stdout",
     "output_type": "stream",
     "text": [
      "{'dir': {'calle': 'Progreso', 'colonia': 'Escandalo', 'cp': 11800, 'num': 189},\n",
      " 'email': 'Maluma_hasta_abajo@reguechafa.com',\n",
      " 'nombre': 'Maluma',\n",
      " 'tel': 5546352431}\n"
     ]
    }
   ],
   "source": [
    "info_de_contacto['dir'] = {\n",
    "    'colonia' : 'Escandalo',\n",
    "    'calle' : 'Progreso',\n",
    "    'num' : 189,\n",
    "    'cp' : 11800\n",
    "}\n",
    "\n",
    "pprint(info_de_contacto)"
   ]
  },
  {
   "cell_type": "code",
   "execution_count": 12,
   "id": "1948615c",
   "metadata": {},
   "outputs": [],
   "source": [
    "info_de_contacto['dir']['colonia'] = 'SalteSiPuedes'"
   ]
  },
  {
   "cell_type": "code",
   "execution_count": 13,
   "id": "8be53f01",
   "metadata": {},
   "outputs": [
    {
     "name": "stdout",
     "output_type": "stream",
     "text": [
      "{'dir': {'calle': 'Progreso',\n",
      "         'colonia': 'SalteSiPuedes',\n",
      "         'cp': 11800,\n",
      "         'num': 189},\n",
      " 'email': 'Maluma_hasta_abajo@reguechafa.com',\n",
      " 'nombre': 'Maluma',\n",
      " 'tel': 5546352431}\n"
     ]
    }
   ],
   "source": [
    "pprint(info_de_contacto)"
   ]
  },
  {
   "cell_type": "markdown",
   "id": "0bb023d5",
   "metadata": {},
   "source": [
    "Podemos incluso modificar estructuras de datos dentro de nuestro diccionario. Por ejemplo ¿Qué tal si hubo un error al agregar la nueva dirección y ahora tenemos qué cambiar solamente el número?:"
   ]
  },
  {
   "cell_type": "code",
   "execution_count": 14,
   "id": "90e839a6",
   "metadata": {},
   "outputs": [
    {
     "name": "stdout",
     "output_type": "stream",
     "text": [
      "{'dir': {'calle': 'Progreso',\n",
      "         'colonia': 'SalteSiPuedes',\n",
      "         'cp': 11800,\n",
      "         'num': 666},\n",
      " 'email': 'Maluma_hasta_abajo@reguechafa.com',\n",
      " 'nombre': 'Maluma',\n",
      " 'tel': 5546352431}\n"
     ]
    }
   ],
   "source": [
    "info_de_contacto['dir']['num'] = 666\n",
    "\n",
    "pprint(info_de_contacto)"
   ]
  },
  {
   "cell_type": "markdown",
   "id": "62967c6b",
   "metadata": {},
   "source": [
    "## Eliminando datos\n",
    "\n",
    "Para eliminar datos, se puede usar el método `pop`. Como se recordará, el nombre de este método es idéntico al método para eliminar elementos de una lista. La diferencia es que el método `pop` de las listas recibe índices como argumentos, el método `pop` de diccionarios recibe llaves como argumentos."
   ]
  },
  {
   "cell_type": "code",
   "execution_count": 15,
   "id": "fdf646a0",
   "metadata": {},
   "outputs": [
    {
     "name": "stdout",
     "output_type": "stream",
     "text": [
      "{'dir': {'calle': 'Progreso',\n",
      "         'colonia': 'SalteSiPuedes',\n",
      "         'cp': 11800,\n",
      "         'num': 666},\n",
      " 'email': 'Maluma_hasta_abajo@reguechafa.com',\n",
      " 'nombre': 'Maluma'}\n"
     ]
    }
   ],
   "source": [
    "info_de_contacto.pop('tel')\n",
    "pprint(info_de_contacto)"
   ]
  }
 ],
 "metadata": {
  "kernelspec": {
   "display_name": "Python 3",
   "language": "python",
   "name": "python3"
  },
  "language_info": {
   "codemirror_mode": {
    "name": "ipython",
    "version": 3
   },
   "file_extension": ".py",
   "mimetype": "text/x-python",
   "name": "python",
   "nbconvert_exporter": "python",
   "pygments_lexer": "ipython3",
   "version": "3.13.3"
  }
 },
 "nbformat": 4,
 "nbformat_minor": 5
}
