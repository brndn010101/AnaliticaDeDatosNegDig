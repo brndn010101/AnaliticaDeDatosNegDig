{
 "cells": [
  {
   "cell_type": "markdown",
   "id": "6945491c",
   "metadata": {},
   "source": [
    "# Pandas\n",
    "Es una librería de Pyhton para el manejo y análisis de datos"
   ]
  },
  {
   "cell_type": "markdown",
   "id": "34552ceb",
   "metadata": {},
   "source": [
    "## Caracteristicas\n",
    "\n",
    "- Leer y escribir fácilmente ficheros en formato csv\n",
    "- Permite acceder a los datos mediante índices\n",
    "- Ofrece métodos para reordenar, dividir y combinar un conjunto de datos"
   ]
  },
  {
   "cell_type": "markdown",
   "id": "72c6be45",
   "metadata": {},
   "source": [
    "En cmd\n",
    "`pip install pandas`"
   ]
  },
  {
   "cell_type": "code",
   "execution_count": 2,
   "id": "6a012b7d",
   "metadata": {},
   "outputs": [],
   "source": [
    "import pandas as pd"
   ]
  },
  {
   "cell_type": "code",
   "execution_count": 3,
   "id": "38fba5f9",
   "metadata": {},
   "outputs": [
    {
     "name": "stdout",
     "output_type": "stream",
     "text": [
      "  Nombre  Edad\n",
      "0    Ana    23\n",
      "1   Luis    30\n",
      "2  Pedro    27\n"
     ]
    }
   ],
   "source": [
    "datos = {\n",
    "    'Nombre' : ['Ana', 'Luis', 'Pedro'],\n",
    "    'Edad' : [23, 30, 27]\n",
    "}\n",
    "\n",
    "df = pd.DataFrame(datos)\n",
    "\n",
    "print(df)"
   ]
  },
  {
   "cell_type": "markdown",
   "id": "66c8146e",
   "metadata": {},
   "source": [
    "### Series\n",
    "\n",
    "Es un arreglo unidimensional que puede contener datos de cualquier tipo, como int, floar, string y tiene un indice asociado, lo que facilita el acceso y la manipulación de datos"
   ]
  },
  {
   "cell_type": "code",
   "execution_count": null,
   "id": "7ae997da",
   "metadata": {},
   "outputs": [],
   "source": [
    "#Ejemplo 1\n",
    "edad = [30, 40, 50]"
   ]
  },
  {
   "cell_type": "code",
   "execution_count": 13,
   "id": "76e2946a",
   "metadata": {},
   "outputs": [],
   "source": [
    "serie = pd.Series(edad)"
   ]
  },
  {
   "cell_type": "code",
   "execution_count": 6,
   "id": "d6d82887",
   "metadata": {},
   "outputs": [
    {
     "data": {
      "text/plain": [
       "0    30\n",
       "1    40\n",
       "2    50\n",
       "dtype: int64"
      ]
     },
     "execution_count": 6,
     "metadata": {},
     "output_type": "execute_result"
    }
   ],
   "source": [
    "serie"
   ]
  },
  {
   "cell_type": "code",
   "execution_count": 14,
   "id": "0ab155df",
   "metadata": {},
   "outputs": [
    {
     "data": {
      "text/plain": [
       "np.int64(40)"
      ]
     },
     "execution_count": 14,
     "metadata": {},
     "output_type": "execute_result"
    }
   ],
   "source": [
    "serie[1]"
   ]
  },
  {
   "cell_type": "code",
   "execution_count": 15,
   "id": "2681bdeb",
   "metadata": {},
   "outputs": [],
   "source": [
    "serie = pd.Series(edad, index = ['Alex', 'John', 'Maria'])"
   ]
  },
  {
   "cell_type": "code",
   "execution_count": 16,
   "id": "39192efa",
   "metadata": {},
   "outputs": [
    {
     "data": {
      "text/plain": [
       "Alex     30\n",
       "John     40\n",
       "Maria    50\n",
       "dtype: int64"
      ]
     },
     "execution_count": 16,
     "metadata": {},
     "output_type": "execute_result"
    }
   ],
   "source": [
    "serie"
   ]
  },
  {
   "cell_type": "code",
   "execution_count": 17,
   "id": "88f93e3a",
   "metadata": {},
   "outputs": [
    {
     "data": {
      "text/plain": [
       "np.int64(30)"
      ]
     },
     "execution_count": 17,
     "metadata": {},
     "output_type": "execute_result"
    }
   ],
   "source": [
    "serie ['Alex']"
   ]
  },
  {
   "cell_type": "code",
   "execution_count": 18,
   "id": "d20afa4e",
   "metadata": {},
   "outputs": [
    {
     "name": "stdout",
     "output_type": "stream",
     "text": [
      "0      1\n",
      "1      4\n",
      "2      9\n",
      "3      2\n",
      "4      6\n",
      "5     10\n",
      "6    200\n",
      "dtype: int64\n"
     ]
    }
   ],
   "source": [
    "# Ejemplo 2\n",
    "naranjas = pd.Series([1, 4, 9, 2, 6, 10, 200])\n",
    "print(naranjas)"
   ]
  },
  {
   "cell_type": "code",
   "execution_count": 20,
   "id": "fe5ee7d1",
   "metadata": {},
   "outputs": [
    {
     "name": "stdout",
     "output_type": "stream",
     "text": [
      "Marco       1\n",
      "Ana         4\n",
      "Jaun        9\n",
      "Pedro       2\n",
      "Estela      6\n",
      "Ivan       10\n",
      "Luis      200\n",
      "dtype: int64\n"
     ]
    }
   ],
   "source": [
    "naranjas = pd.Series([1, 4, 9, 2, 6, 10, 200], index = ['Marco', 'Ana', 'Jaun', 'Pedro', 'Estela', 'Ivan', 'Luis'])\n",
    "print(naranjas)"
   ]
  }
 ],
 "metadata": {
  "kernelspec": {
   "display_name": "Python 3",
   "language": "python",
   "name": "python3"
  },
  "language_info": {
   "codemirror_mode": {
    "name": "ipython",
    "version": 3
   },
   "file_extension": ".py",
   "mimetype": "text/x-python",
   "name": "python",
   "nbconvert_exporter": "python",
   "pygments_lexer": "ipython3",
   "version": "3.13.3"
  }
 },
 "nbformat": 4,
 "nbformat_minor": 5
}
